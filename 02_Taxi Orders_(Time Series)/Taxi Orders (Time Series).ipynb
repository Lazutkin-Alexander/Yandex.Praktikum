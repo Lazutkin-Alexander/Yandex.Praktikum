{
 "cells": [
  {
   "cell_type": "markdown",
   "metadata": {},
   "source": [
    "# Прогноз количества заказов такси на следующий час\n",
    "\n",
    "Компания собрала исторические данные о заказах такси в аэропортах. Чтобы привлекать больше водителей в период пиковой нагрузки, нужно спрогнозировать количество заказов такси на следующий час.\n",
    "\n",
    "Значение метрики *RMSE* на тестовой выборке размером 10% от исходных данных должно быть не больше 48.\n",
    "\n",
    "Структура исходных данных:\n",
    "- datetime - время заказа такси\n",
    "- num_orders - количество заказов"
   ]
  },
  {
   "cell_type": "markdown",
   "metadata": {},
   "source": [
    "## 1. Подготовка"
   ]
  },
  {
   "cell_type": "code",
   "execution_count": 1,
   "metadata": {},
   "outputs": [],
   "source": [
    "#Импорт необходимых библиотек:\n",
    "import pandas as pd\n",
    "import numpy as np\n",
    "import seaborn as sns\n",
    "import matplotlib.pyplot as plt\n",
    "\n",
    "from sklearn.model_selection import train_test_split\n",
    "from sklearn.preprocessing import StandardScaler\n",
    "from sklearn.ensemble import RandomForestRegressor\n",
    "from sklearn.model_selection import ParameterGrid\n",
    "from sklearn.metrics import mean_squared_error\n",
    "from catboost import CatBoostRegressor, Pool"
   ]
  },
  {
   "cell_type": "code",
   "execution_count": 2,
   "metadata": {},
   "outputs": [],
   "source": [
    "#Загрузка данных:\n",
    "taxi_data = pd.read_csv('/datasets/taxi.csv')"
   ]
  },
  {
   "cell_type": "code",
   "execution_count": 3,
   "metadata": {},
   "outputs": [
    {
     "name": "stdout",
     "output_type": "stream",
     "text": [
      "<class 'pandas.core.frame.DataFrame'>\n",
      "RangeIndex: 26496 entries, 0 to 26495\n",
      "Data columns (total 2 columns):\n",
      "datetime      26496 non-null object\n",
      "num_orders    26496 non-null int64\n",
      "dtypes: int64(1), object(1)\n",
      "memory usage: 414.1+ KB\n"
     ]
    }
   ],
   "source": [
    "#Общая информация:\n",
    "taxi_data.info()"
   ]
  },
  {
   "cell_type": "code",
   "execution_count": 4,
   "metadata": {},
   "outputs": [
    {
     "data": {
      "text/html": [
       "<div>\n",
       "<style scoped>\n",
       "    .dataframe tbody tr th:only-of-type {\n",
       "        vertical-align: middle;\n",
       "    }\n",
       "\n",
       "    .dataframe tbody tr th {\n",
       "        vertical-align: top;\n",
       "    }\n",
       "\n",
       "    .dataframe thead th {\n",
       "        text-align: right;\n",
       "    }\n",
       "</style>\n",
       "<table border=\"1\" class=\"dataframe\">\n",
       "  <thead>\n",
       "    <tr style=\"text-align: right;\">\n",
       "      <th></th>\n",
       "      <th>datetime</th>\n",
       "      <th>num_orders</th>\n",
       "    </tr>\n",
       "  </thead>\n",
       "  <tbody>\n",
       "    <tr>\n",
       "      <td>0</td>\n",
       "      <td>2018-03-01 00:00:00</td>\n",
       "      <td>9</td>\n",
       "    </tr>\n",
       "    <tr>\n",
       "      <td>1</td>\n",
       "      <td>2018-03-01 00:10:00</td>\n",
       "      <td>14</td>\n",
       "    </tr>\n",
       "    <tr>\n",
       "      <td>2</td>\n",
       "      <td>2018-03-01 00:20:00</td>\n",
       "      <td>28</td>\n",
       "    </tr>\n",
       "    <tr>\n",
       "      <td>3</td>\n",
       "      <td>2018-03-01 00:30:00</td>\n",
       "      <td>20</td>\n",
       "    </tr>\n",
       "    <tr>\n",
       "      <td>4</td>\n",
       "      <td>2018-03-01 00:40:00</td>\n",
       "      <td>32</td>\n",
       "    </tr>\n",
       "    <tr>\n",
       "      <td>...</td>\n",
       "      <td>...</td>\n",
       "      <td>...</td>\n",
       "    </tr>\n",
       "    <tr>\n",
       "      <td>26491</td>\n",
       "      <td>2018-08-31 23:10:00</td>\n",
       "      <td>32</td>\n",
       "    </tr>\n",
       "    <tr>\n",
       "      <td>26492</td>\n",
       "      <td>2018-08-31 23:20:00</td>\n",
       "      <td>24</td>\n",
       "    </tr>\n",
       "    <tr>\n",
       "      <td>26493</td>\n",
       "      <td>2018-08-31 23:30:00</td>\n",
       "      <td>27</td>\n",
       "    </tr>\n",
       "    <tr>\n",
       "      <td>26494</td>\n",
       "      <td>2018-08-31 23:40:00</td>\n",
       "      <td>39</td>\n",
       "    </tr>\n",
       "    <tr>\n",
       "      <td>26495</td>\n",
       "      <td>2018-08-31 23:50:00</td>\n",
       "      <td>53</td>\n",
       "    </tr>\n",
       "  </tbody>\n",
       "</table>\n",
       "<p>26496 rows × 2 columns</p>\n",
       "</div>"
      ],
      "text/plain": [
       "                  datetime  num_orders\n",
       "0      2018-03-01 00:00:00           9\n",
       "1      2018-03-01 00:10:00          14\n",
       "2      2018-03-01 00:20:00          28\n",
       "3      2018-03-01 00:30:00          20\n",
       "4      2018-03-01 00:40:00          32\n",
       "...                    ...         ...\n",
       "26491  2018-08-31 23:10:00          32\n",
       "26492  2018-08-31 23:20:00          24\n",
       "26493  2018-08-31 23:30:00          27\n",
       "26494  2018-08-31 23:40:00          39\n",
       "26495  2018-08-31 23:50:00          53\n",
       "\n",
       "[26496 rows x 2 columns]"
      ]
     },
     "execution_count": 4,
     "metadata": {},
     "output_type": "execute_result"
    }
   ],
   "source": [
    "#Несколько строк таблицы:\n",
    "taxi_data"
   ]
  },
  {
   "cell_type": "markdown",
   "metadata": {},
   "source": [
    "В предоставленных данных только два столбца: Дата-время и количество заказов такси. Пропусков нет, и, похоже, записи уже расположены в хронологическом порядке (но на всякий случай можно это проверить). \"Замеры\" проводились каждые 10 минут.\n",
    "\n",
    "Данные требуется подготовить:\n",
    "- Перевести столбец datetime из типа object в datetime\n",
    "- Сделать столбец datetime индексами записей\n",
    "- Упорядочить получившийся список по дате\n",
    "- Ресемплировать записи по одному часу"
   ]
  },
  {
   "cell_type": "code",
   "execution_count": 5,
   "metadata": {},
   "outputs": [
    {
     "data": {
      "text/html": [
       "<div>\n",
       "<style scoped>\n",
       "    .dataframe tbody tr th:only-of-type {\n",
       "        vertical-align: middle;\n",
       "    }\n",
       "\n",
       "    .dataframe tbody tr th {\n",
       "        vertical-align: top;\n",
       "    }\n",
       "\n",
       "    .dataframe thead th {\n",
       "        text-align: right;\n",
       "    }\n",
       "</style>\n",
       "<table border=\"1\" class=\"dataframe\">\n",
       "  <thead>\n",
       "    <tr style=\"text-align: right;\">\n",
       "      <th></th>\n",
       "      <th>num_orders</th>\n",
       "    </tr>\n",
       "    <tr>\n",
       "      <th>datetime</th>\n",
       "      <th></th>\n",
       "    </tr>\n",
       "  </thead>\n",
       "  <tbody>\n",
       "    <tr>\n",
       "      <td>2018-03-01 00:00:00</td>\n",
       "      <td>124</td>\n",
       "    </tr>\n",
       "    <tr>\n",
       "      <td>2018-03-01 01:00:00</td>\n",
       "      <td>85</td>\n",
       "    </tr>\n",
       "    <tr>\n",
       "      <td>2018-03-01 02:00:00</td>\n",
       "      <td>71</td>\n",
       "    </tr>\n",
       "    <tr>\n",
       "      <td>2018-03-01 03:00:00</td>\n",
       "      <td>66</td>\n",
       "    </tr>\n",
       "    <tr>\n",
       "      <td>2018-03-01 04:00:00</td>\n",
       "      <td>43</td>\n",
       "    </tr>\n",
       "    <tr>\n",
       "      <td>...</td>\n",
       "      <td>...</td>\n",
       "    </tr>\n",
       "    <tr>\n",
       "      <td>2018-08-31 19:00:00</td>\n",
       "      <td>136</td>\n",
       "    </tr>\n",
       "    <tr>\n",
       "      <td>2018-08-31 20:00:00</td>\n",
       "      <td>154</td>\n",
       "    </tr>\n",
       "    <tr>\n",
       "      <td>2018-08-31 21:00:00</td>\n",
       "      <td>159</td>\n",
       "    </tr>\n",
       "    <tr>\n",
       "      <td>2018-08-31 22:00:00</td>\n",
       "      <td>223</td>\n",
       "    </tr>\n",
       "    <tr>\n",
       "      <td>2018-08-31 23:00:00</td>\n",
       "      <td>205</td>\n",
       "    </tr>\n",
       "  </tbody>\n",
       "</table>\n",
       "<p>4416 rows × 1 columns</p>\n",
       "</div>"
      ],
      "text/plain": [
       "                     num_orders\n",
       "datetime                       \n",
       "2018-03-01 00:00:00         124\n",
       "2018-03-01 01:00:00          85\n",
       "2018-03-01 02:00:00          71\n",
       "2018-03-01 03:00:00          66\n",
       "2018-03-01 04:00:00          43\n",
       "...                         ...\n",
       "2018-08-31 19:00:00         136\n",
       "2018-08-31 20:00:00         154\n",
       "2018-08-31 21:00:00         159\n",
       "2018-08-31 22:00:00         223\n",
       "2018-08-31 23:00:00         205\n",
       "\n",
       "[4416 rows x 1 columns]"
      ]
     },
     "execution_count": 5,
     "metadata": {},
     "output_type": "execute_result"
    }
   ],
   "source": [
    "#Создание временного ряда из сырых данных:\n",
    "taxi_data = pd.read_csv('/datasets/taxi.csv', index_col=[0], parse_dates=[0])\n",
    "\n",
    "#Сортировка по дате и времени:\n",
    "taxi_data.sort_index(inplace=True)\n",
    "\n",
    "#Ресемплирование по 1 часу:\n",
    "taxi_data = taxi_data.resample('1H').sum()\n",
    "taxi_data"
   ]
  },
  {
   "cell_type": "markdown",
   "metadata": {},
   "source": [
    "Ряд содержит данные о заказах такси за каждый час в течение 6 месяцев. Перейдем к анализу."
   ]
  },
  {
   "cell_type": "markdown",
   "metadata": {},
   "source": [
    "## 2. Анализ"
   ]
  },
  {
   "cell_type": "markdown",
   "metadata": {},
   "source": [
    "Рассмотрю зависимость количества заказов такси от календарных и временных признаков: часа, дня недели и месяца. Для этого построю простые гистограммы и поищу закономерности."
   ]
  },
  {
   "cell_type": "code",
   "execution_count": 6,
   "metadata": {},
   "outputs": [
    {
     "data": {
      "text/plain": [
       "<matplotlib.axes._subplots.AxesSubplot at 0x7f25a7ab76d0>"
      ]
     },
     "execution_count": 6,
     "metadata": {},
     "output_type": "execute_result"
    },
    {
     "data": {
      "image/png": "[encoded data removed]",
      "text/plain": [
       "<Figure size 1008x576 with 1 Axes>"
      ]
     },
     "metadata": {
      "needs_background": "light"
     },
     "output_type": "display_data"
    }
   ],
   "source": [
    "#Добавление дополнительного признака - часа, в который заказывается такси:\n",
    "taxi_data['hour'] = taxi_data.index.hour\n",
    "\n",
    "#Создание сводной таблицы, в которой по часам вычислены средние значения количества заказов:\n",
    "orders_by_hour = taxi_data.pivot_table(taxi_data, index='hour', aggfunc=np.mean)\n",
    "\n",
    "#Построение гистограммы по сводной таблице:\n",
    "fig, ax = plt.subplots(figsize=(14, 8))\n",
    "sns.barplot(x=orders_by_hour.index, y=orders_by_hour['num_orders'], palette=\"rocket\")"
   ]
  },
  {
   "cell_type": "markdown",
   "metadata": {},
   "source": [
    "Можно заметить, что количество заказов значительно меняется в течение дня: В 0 часов - пик спроса на такси, а в 6-7 утра - сильная просадка. Небольшие просадки наблюдаются около 12 и 18 часов, а вторичные пики - около 10 и 16. Зависимость количества заказов от времени дня не прямая, значит этот признак нужно задавать, как категориальный."
   ]
  },
  {
   "cell_type": "code",
   "execution_count": 7,
   "metadata": {},
   "outputs": [
    {
     "data": {
      "text/plain": [
       "<matplotlib.axes._subplots.AxesSubplot at 0x7f25a6e82250>"
      ]
     },
     "execution_count": 7,
     "metadata": {},
     "output_type": "execute_result"
    },
    {
     "data": {
      "image/png": "[encoded data removed]",
      "text/plain": [
       "<Figure size 1008x576 with 1 Axes>"
      ]
     },
     "metadata": {
      "needs_background": "light"
     },
     "output_type": "display_data"
    }
   ],
   "source": [
    "#Добавление дополнительного признака - дня недели, в который заказывается такси:\n",
    "taxi_data['day_of_week'] = taxi_data.index.dayofweek\n",
    "\n",
    "#Создание сводной таблицы, в которой по дням недели вычислены средние значения количества заказов:\n",
    "orders_by_day_of_week = taxi_data.pivot_table(taxi_data, index='day_of_week', aggfunc=np.mean)\n",
    "\n",
    "#График:\n",
    "fig, ax = plt.subplots(figsize=(14, 8))\n",
    "sns.barplot(x=orders_by_day_of_week.index, y=orders_by_day_of_week['num_orders'], palette=\"rocket\")"
   ]
  },
  {
   "cell_type": "markdown",
   "metadata": {},
   "source": [
    "Спрос на такси от дня недели зависит гораздо меньше, чем от времени дня, но зависимость всё же прослеживается: понедельник и пятница - самые загруженные дни, вторник и воскресенье - относительно свободные. Этот признак также категориальный."
   ]
  },
  {
   "cell_type": "code",
   "execution_count": 8,
   "metadata": {},
   "outputs": [
    {
     "data": {
      "text/plain": [
       "<matplotlib.axes._subplots.AxesSubplot at 0x7f25a70d4550>"
      ]
     },
     "execution_count": 8,
     "metadata": {},
     "output_type": "execute_result"
    },
    {
     "data": {
      "image/png": "[encoded data removed]",
      "text/plain": [
       "<Figure size 1008x576 with 1 Axes>"
      ]
     },
     "metadata": {
      "needs_background": "light"
     },
     "output_type": "display_data"
    }
   ],
   "source": [
    "#Дополнительный признак - месяц:\n",
    "taxi_data['month'] = taxi_data.index.month\n",
    "\n",
    "#Сводная таблица:\n",
    "orders_by_month = taxi_data.pivot_table(taxi_data, index='month', aggfunc=np.mean)\n",
    "\n",
    "#График:\n",
    "fig, ax = plt.subplots(figsize=(14, 8))\n",
    "sns.barplot(x=orders_by_month.index, y=orders_by_month['num_orders'], palette=\"rocket\")"
   ]
  },
  {
   "cell_type": "markdown",
   "metadata": {},
   "source": [
    "Видно, что спрос на такси в марте-августе неуклонно (и даже с ускорением) растет. Этот дополнительный признак можно рассматривать, как количественный."
   ]
  },
  {
   "cell_type": "code",
   "execution_count": 9,
   "metadata": {},
   "outputs": [
    {
     "data": {
      "text/plain": [
       "<matplotlib.axes._subplots.AxesSubplot at 0x7f25a7062c90>"
      ]
     },
     "execution_count": 9,
     "metadata": {},
     "output_type": "execute_result"
    },
    {
     "data": {
      "image/png": "[encoded data removed]",
      "text/plain": [
       "<Figure size 1008x576 with 1 Axes>"
      ]
     },
     "metadata": {
      "needs_background": "light"
     },
     "output_type": "display_data"
    }
   ],
   "source": [
    "#Новый признак - день месяца:\n",
    "taxi_data['day'] = taxi_data.index.day\n",
    "\n",
    "#Сводная таблица:\n",
    "orders_by_day = taxi_data.pivot_table(taxi_data, index='day', aggfunc=np.mean)\n",
    "\n",
    "#График:\n",
    "fig, ax = plt.subplots(figsize=(14, 8))\n",
    "sns.barplot(x=orders_by_day.index, y=orders_by_day['num_orders'], palette=\"rocket\")"
   ]
  },
  {
   "cell_type": "markdown",
   "metadata": {},
   "source": [
    "В зависимости от дня месяца количество заказов растет от начала месяца к концу с некоторыми колебаниями. Этот признак тоже можно рассматривать, как количественный. На гистограмме представлены средние значения заказов по дню за все месяцы, можно дополнительно построить линейный график за всё время:"
   ]
  },
  {
   "cell_type": "code",
   "execution_count": 10,
   "metadata": {},
   "outputs": [
    {
     "data": {
      "text/plain": [
       "<matplotlib.axes._subplots.AxesSubplot at 0x7f25a6dc2590>"
      ]
     },
     "execution_count": 10,
     "metadata": {},
     "output_type": "execute_result"
    },
    {
     "data": {
      "image/png": "[encoded data removed]",
      "text/plain": [
       "<Figure size 1152x576 with 1 Axes>"
      ]
     },
     "metadata": {
      "needs_background": "light"
     },
     "output_type": "display_data"
    }
   ],
   "source": [
    "#Ресемплирование данных по одному дню, суммирование заказов за день и построение простого графика:\n",
    "fig, ax = plt.subplots(figsize=(16, 8))\n",
    "taxi_data['num_orders'].resample('1D').sum().plot()"
   ]
  },
  {
   "cell_type": "markdown",
   "metadata": {},
   "source": [
    "По графику видно, что, действительно, общий тренд - увеличение количества заказов с начала марта до конца августа."
   ]
  },
  {
   "cell_type": "markdown",
   "metadata": {},
   "source": [
    "Теперь для каждого объекта добавлю \"отстающие значения\" - количество заказов в предыдущий день, два дня назад и т. д. Ограничусь отрезком в 2 недели. И несколько значений скользящего среднего с разным размером окна. Затем изучу скоррелированность новых признаков с целевым и возможно уберу некоторые признаки."
   ]
  },
  {
   "cell_type": "code",
   "execution_count": 11,
   "metadata": {},
   "outputs": [],
   "source": [
    "#Добавление в таблицу \"отстающих значений\" (максимум - на две недели):\n",
    "for lag in range(1, 15):\n",
    "    taxi_data['lag_{}'.format(lag)] = taxi_data['num_orders'].shift(lag)"
   ]
  },
  {
   "cell_type": "code",
   "execution_count": 12,
   "metadata": {},
   "outputs": [],
   "source": [
    "#Добавление скользящих средних:\n",
    "for window in [3, 5, 7, 10, 14, 20, 25, 30, 45, 60]:\n",
    "    taxi_data['rolling_mean_{}'.format(window)] = taxi_data['num_orders'].shift().rolling(window).mean()"
   ]
  },
  {
   "cell_type": "code",
   "execution_count": 13,
   "metadata": {},
   "outputs": [
    {
     "data": {
      "text/plain": [
       "num_orders         1.000000\n",
       "hour               0.004292\n",
       "day_of_week       -0.019628\n",
       "month              0.510108\n",
       "day                0.165312\n",
       "lag_1              0.624138\n",
       "lag_2              0.465444\n",
       "lag_3              0.321173\n",
       "lag_4              0.248791\n",
       "lag_5              0.230489\n",
       "lag_6              0.238449\n",
       "lag_7              0.291733\n",
       "lag_8              0.310036\n",
       "lag_9              0.270676\n",
       "lag_10             0.263643\n",
       "lag_11             0.317913\n",
       "lag_12             0.332466\n",
       "lag_13             0.313831\n",
       "lag_14             0.259667\n",
       "rolling_mean_3     0.556788\n",
       "rolling_mean_5     0.495734\n",
       "rolling_mean_7     0.488784\n",
       "rolling_mean_10    0.493754\n",
       "rolling_mean_14    0.510035\n",
       "rolling_mean_20    0.490381\n",
       "rolling_mean_25    0.569528\n",
       "rolling_mean_30    0.547438\n",
       "rolling_mean_45    0.519054\n",
       "rolling_mean_60    0.550833\n",
       "Name: num_orders, dtype: float64"
      ]
     },
     "execution_count": 13,
     "metadata": {},
     "output_type": "execute_result"
    }
   ],
   "source": [
    "#Коэффициенты корреляции между целевым признаком и прочими признаками:\n",
    "taxi_data.corr()['num_orders'].tail(60)"
   ]
  },
  {
   "cell_type": "markdown",
   "metadata": {},
   "source": [
    "По коэффициентам корреляции видно, что новые признаки связаны с целевым признаком. Коэффициенты около нуля у признаков hour и day_of_week подтверждают, что к этим признакам нужно относиться, как к категориальным. Скользящее среднее с окном в 25 дней лучше всего скоррелировано с количеством заказов, оставлю этот признак, а остальные столбцы со скользящим средним удалю."
   ]
  },
  {
   "cell_type": "code",
   "execution_count": 14,
   "metadata": {},
   "outputs": [
    {
     "name": "stdout",
     "output_type": "stream",
     "text": [
      "<class 'pandas.core.frame.DataFrame'>\n",
      "DatetimeIndex: 4416 entries, 2018-03-01 00:00:00 to 2018-08-31 23:00:00\n",
      "Freq: H\n",
      "Data columns (total 20 columns):\n",
      "num_orders         4416 non-null int64\n",
      "hour               4416 non-null int64\n",
      "day_of_week        4416 non-null int64\n",
      "month              4416 non-null int64\n",
      "day                4416 non-null int64\n",
      "lag_1              4415 non-null float64\n",
      "lag_2              4414 non-null float64\n",
      "lag_3              4413 non-null float64\n",
      "lag_4              4412 non-null float64\n",
      "lag_5              4411 non-null float64\n",
      "lag_6              4410 non-null float64\n",
      "lag_7              4409 non-null float64\n",
      "lag_8              4408 non-null float64\n",
      "lag_9              4407 non-null float64\n",
      "lag_10             4406 non-null float64\n",
      "lag_11             4405 non-null float64\n",
      "lag_12             4404 non-null float64\n",
      "lag_13             4403 non-null float64\n",
      "lag_14             4402 non-null float64\n",
      "rolling_mean_25    4391 non-null float64\n",
      "dtypes: float64(15), int64(5)\n",
      "memory usage: 724.5 KB\n"
     ]
    }
   ],
   "source": [
    "#Создание списка названий столбцов для удаления:\n",
    "columns_to_del = []\n",
    "windows_to_del = [3, 5, 7, 10, 14, 20, 30, 45, 60]\n",
    "\n",
    "for i in range(len(windows_to_del)):\n",
    "    columns_to_del.append('rolling_mean_'+str(windows_to_del[i]))\n",
    "\n",
    "#Удаление лишних столбцов:\n",
    "taxi_data = taxi_data.drop(columns_to_del, axis=1)\n",
    "taxi_data.info()"
   ]
  },
  {
   "cell_type": "markdown",
   "metadata": {},
   "source": [
    "В начале таблицы образовалось небольшое количество пропущенных значений, которые могут помешать дальнейшей обработке данных и обучению моделей. Заполняя пропуски можно ошибиться и создать утечку целевого признака. Пропусков не очень много, и если строки с ними просто удалить, то потеряются данные всего за одни сутки - 1 марта. По этим причинам строки с пропусками я удалю."
   ]
  },
  {
   "cell_type": "code",
   "execution_count": 15,
   "metadata": {
    "scrolled": false
   },
   "outputs": [],
   "source": [
    "#Удаление строк с пропусками:\n",
    "taxi_data = taxi_data.dropna()"
   ]
  },
  {
   "cell_type": "markdown",
   "metadata": {},
   "source": [
    "Разделю данные на обучающую, валидационную и тестовую выборки. По условию тестовая должна содержать 10% записей. Такое же количество выделю под валидационную. Перемешивать исходную выборку при разделении нельзя, чтобы предотвратить утечку целевого признака."
   ]
  },
  {
   "cell_type": "code",
   "execution_count": 16,
   "metadata": {},
   "outputs": [],
   "source": [
    "#Создание обучающей и тестовой выборок:\n",
    "taxi_train, taxi_test = train_test_split(taxi_data, shuffle=False, test_size=0.1)\n",
    "\n",
    "#Выделение валидационной выборки из обучающей:\n",
    "taxi_train, taxi_valid = train_test_split(taxi_train, shuffle=False, test_size=1/9)\n",
    "\n",
    "#Разбивка выборок на признаки и целевой признак:\n",
    "features_train = taxi_train.drop(['num_orders'], axis=1)\n",
    "target_train = taxi_train['num_orders']\n",
    "\n",
    "features_valid = taxi_valid.drop(['num_orders'], axis=1)\n",
    "target_valid = taxi_valid['num_orders']\n",
    "\n",
    "features_test = taxi_test.drop(['num_orders'], axis=1)\n",
    "target_test = taxi_test['num_orders']"
   ]
  },
  {
   "cell_type": "markdown",
   "metadata": {},
   "source": [
    "Осталось стандартизировать количественные признаки и подготовить категориальные. Попробую обучить на данных модели \"случайного леса\" и одну из моделей градиентного бустинга (lgbm или catboost). Для \"случайного леса\" категориальные признаки нужно преобразавать методом OHE, а для популярных библиотек градиентного бустинга в этом необходимости нет, поэтому я подготовлю два набора данных - для каждой модели свой."
   ]
  },
  {
   "cell_type": "code",
   "execution_count": 17,
   "metadata": {
    "scrolled": true
   },
   "outputs": [],
   "source": [
    "#Стандартизация количественных признаков:\n",
    "scaler = StandardScaler()\n",
    "\n",
    "columns_for_std = list(features_train.columns[2:])\n",
    "\n",
    "scaler.fit(features_train[columns_for_std])\n",
    "\n",
    "features_train[columns_for_std] = (\n",
    "    pd.DataFrame(scaler.transform(features_train[columns_for_std]), index=features_train.index))\n",
    "                 \n",
    "features_valid[columns_for_std] = (\n",
    "    pd.DataFrame(scaler.transform(features_valid[columns_for_std]), index=features_valid.index))\n",
    "                 \n",
    "features_test[columns_for_std] = (\n",
    "    pd.DataFrame(scaler.transform(features_test[columns_for_std]), index=features_test.index))"
   ]
  },
  {
   "cell_type": "code",
   "execution_count": 18,
   "metadata": {
    "scrolled": false
   },
   "outputs": [],
   "source": [
    "#Выборки для обучения и проверки моделей RandomForestRegressor:\n",
    "features_ohe_train = features_train\n",
    "features_ohe_valid = features_valid\n",
    "features_ohe_test = features_test\n",
    "\n",
    "features_ohe_train = features_ohe_train.drop(['hour', 'day_of_week'], axis=1)\n",
    "features_ohe_valid = features_ohe_valid.drop(['hour', 'day_of_week'], axis=1)\n",
    "features_ohe_test = features_ohe_test.drop(['hour', 'day_of_week'], axis=1)"
   ]
  },
  {
   "cell_type": "code",
   "execution_count": 19,
   "metadata": {
    "scrolled": false
   },
   "outputs": [],
   "source": [
    "#Кодирование категориальных признаков в выборках методом OHE:\n",
    "features_ohe_train = (\n",
    "    features_ohe_train\n",
    "    .join(pd.get_dummies(features_train['hour'], drop_first=True, prefix='hour'))\n",
    "    .join(pd.get_dummies(features_train['day_of_week'], drop_first=True, prefix='day_of_week'))\n",
    ")\n",
    "\n",
    "features_ohe_valid = (\n",
    "    features_ohe_valid\n",
    "    .join(pd.get_dummies(features_valid['hour'], drop_first=True, prefix='hour'))\n",
    "    .join(pd.get_dummies(features_valid['day_of_week'], drop_first=True, prefix='day_of_week'))\n",
    ")\n",
    "\n",
    "features_ohe_test = (\n",
    "    features_ohe_test\n",
    "    .join(pd.get_dummies(features_test['hour'], drop_first=True, prefix='hour'))\n",
    "    .join(pd.get_dummies(features_test['day_of_week'], drop_first=True, prefix='day_of_week'))\n",
    ")"
   ]
  },
  {
   "cell_type": "markdown",
   "metadata": {},
   "source": [
    "Выборки признаков features_train, features_valid и features_test буду использовать для обучения и проверки моделей градиентного бустинга, а features_ohe_train, features_ohe_valid и features_ohe_test - RandomForestRegressor. Выборки с целевым признаком будут общими для всех моделей. Можно приступить к обучению."
   ]
  },
  {
   "cell_type": "markdown",
   "metadata": {},
   "source": [
    "## 3. Обучение"
   ]
  },
  {
   "cell_type": "code",
   "execution_count": 20,
   "metadata": {
    "scrolled": true
   },
   "outputs": [
    {
     "name": "stdout",
     "output_type": "stream",
     "text": [
      "{'max_depth': 3, 'min_samples_leaf': 3, 'n_estimators': 10}\n",
      "rmse: 44.05993025237987\n",
      "\n",
      "{'max_depth': 3, 'min_samples_leaf': 3, 'n_estimators': 30}\n",
      "rmse: 44.20255645333322\n",
      "\n",
      "{'max_depth': 3, 'min_samples_leaf': 3, 'n_estimators': 50}\n",
      "rmse: 44.10600540710448\n",
      "\n",
      "{'max_depth': 3, 'min_samples_leaf': 3, 'n_estimators': 70}\n",
      "rmse: 44.099383093348976\n",
      "\n",
      "{'max_depth': 3, 'min_samples_leaf': 3, 'n_estimators': 90}\n",
      "rmse: 44.06746874167881\n",
      "\n",
      "{'max_depth': 3, 'min_samples_leaf': 3, 'n_estimators': 110}\n",
      "rmse: 44.0167984919146\n",
      "\n",
      "{'max_depth': 3, 'min_samples_leaf': 6, 'n_estimators': 10}\n",
      "rmse: 44.06098558406384\n",
      "\n",
      "{'max_depth': 3, 'min_samples_leaf': 6, 'n_estimators': 30}\n",
      "rmse: 44.20160698354085\n",
      "\n",
      "{'max_depth': 3, 'min_samples_leaf': 6, 'n_estimators': 50}\n",
      "rmse: 44.10527803803807\n",
      "\n",
      "{'max_depth': 3, 'min_samples_leaf': 6, 'n_estimators': 70}\n",
      "rmse: 44.09883847007193\n",
      "\n",
      "{'max_depth': 3, 'min_samples_leaf': 6, 'n_estimators': 90}\n",
      "rmse: 44.06749415642412\n",
      "\n",
      "{'max_depth': 3, 'min_samples_leaf': 6, 'n_estimators': 110}\n",
      "rmse: 44.01732289295363\n",
      "\n",
      "{'max_depth': 3, 'min_samples_leaf': 9, 'n_estimators': 10}\n",
      "rmse: 44.06098558406384\n",
      "\n",
      "{'max_depth': 3, 'min_samples_leaf': 9, 'n_estimators': 30}\n",
      "rmse: 44.20160698354085\n",
      "\n",
      "{'max_depth': 3, 'min_samples_leaf': 9, 'n_estimators': 50}\n",
      "rmse: 44.10570575089678\n",
      "\n",
      "{'max_depth': 3, 'min_samples_leaf': 9, 'n_estimators': 70}\n",
      "rmse: 44.09913417245126\n",
      "\n",
      "{'max_depth': 3, 'min_samples_leaf': 9, 'n_estimators': 90}\n",
      "rmse: 44.06824993565103\n",
      "\n",
      "{'max_depth': 3, 'min_samples_leaf': 9, 'n_estimators': 110}\n",
      "rmse: 44.02143973070288\n",
      "\n",
      "{'max_depth': 3, 'min_samples_leaf': 12, 'n_estimators': 10}\n",
      "rmse: 44.06098558406384\n",
      "\n",
      "{'max_depth': 3, 'min_samples_leaf': 12, 'n_estimators': 30}\n",
      "rmse: 44.20036322159716\n",
      "\n",
      "{'max_depth': 3, 'min_samples_leaf': 12, 'n_estimators': 50}\n",
      "rmse: 44.105808626868146\n",
      "\n",
      "{'max_depth': 3, 'min_samples_leaf': 12, 'n_estimators': 70}\n",
      "rmse: 44.10069601768681\n",
      "\n",
      "{'max_depth': 3, 'min_samples_leaf': 12, 'n_estimators': 90}\n",
      "rmse: 44.06929309692047\n",
      "\n",
      "{'max_depth': 3, 'min_samples_leaf': 12, 'n_estimators': 110}\n",
      "rmse: 44.02790624016222\n",
      "\n",
      "{'max_depth': 3, 'min_samples_leaf': 15, 'n_estimators': 10}\n",
      "rmse: 44.06098558406384\n",
      "\n",
      "{'max_depth': 3, 'min_samples_leaf': 15, 'n_estimators': 30}\n",
      "rmse: 44.274036338605114\n",
      "\n",
      "{'max_depth': 3, 'min_samples_leaf': 15, 'n_estimators': 50}\n",
      "rmse: 44.188802433654686\n",
      "\n",
      "{'max_depth': 3, 'min_samples_leaf': 15, 'n_estimators': 70}\n",
      "rmse: 44.18399057777731\n",
      "\n",
      "{'max_depth': 3, 'min_samples_leaf': 15, 'n_estimators': 90}\n",
      "rmse: 44.136733371831866\n",
      "\n",
      "{'max_depth': 3, 'min_samples_leaf': 15, 'n_estimators': 110}\n",
      "rmse: 44.087434068847266\n",
      "\n",
      "{'max_depth': 3, 'min_samples_leaf': 18, 'n_estimators': 10}\n",
      "rmse: 44.08559689516097\n",
      "\n",
      "{'max_depth': 3, 'min_samples_leaf': 18, 'n_estimators': 30}\n",
      "rmse: 44.319237397515955\n",
      "\n",
      "{'max_depth': 3, 'min_samples_leaf': 18, 'n_estimators': 50}\n",
      "rmse: 44.23095367361876\n",
      "\n",
      "{'max_depth': 3, 'min_samples_leaf': 18, 'n_estimators': 70}\n",
      "rmse: 44.249473604636506\n",
      "\n",
      "{'max_depth': 3, 'min_samples_leaf': 18, 'n_estimators': 90}\n",
      "rmse: 44.186091648357134\n",
      "\n",
      "{'max_depth': 3, 'min_samples_leaf': 18, 'n_estimators': 110}\n",
      "rmse: 44.13867565259828\n",
      "\n",
      "{'max_depth': 6, 'min_samples_leaf': 3, 'n_estimators': 10}\n",
      "rmse: 38.56870000366793\n",
      "\n",
      "{'max_depth': 6, 'min_samples_leaf': 3, 'n_estimators': 30}\n",
      "rmse: 38.68665786026785\n",
      "\n",
      "{'max_depth': 6, 'min_samples_leaf': 3, 'n_estimators': 50}\n",
      "rmse: 38.55411901095671\n",
      "\n",
      "{'max_depth': 6, 'min_samples_leaf': 3, 'n_estimators': 70}\n",
      "rmse: 38.49198231865594\n",
      "\n",
      "{'max_depth': 6, 'min_samples_leaf': 3, 'n_estimators': 90}\n",
      "rmse: 38.41965688753993\n",
      "\n",
      "{'max_depth': 6, 'min_samples_leaf': 3, 'n_estimators': 110}\n",
      "rmse: 38.40963485751665\n",
      "\n",
      "{'max_depth': 6, 'min_samples_leaf': 6, 'n_estimators': 10}\n",
      "rmse: 38.457549329065515\n",
      "\n",
      "{'max_depth': 6, 'min_samples_leaf': 6, 'n_estimators': 30}\n",
      "rmse: 38.6153032397239\n",
      "\n",
      "{'max_depth': 6, 'min_samples_leaf': 6, 'n_estimators': 50}\n",
      "rmse: 38.483970050221174\n",
      "\n",
      "{'max_depth': 6, 'min_samples_leaf': 6, 'n_estimators': 70}\n",
      "rmse: 38.457049353898356\n",
      "\n",
      "{'max_depth': 6, 'min_samples_leaf': 6, 'n_estimators': 90}\n",
      "rmse: 38.39950492503157\n",
      "\n",
      "{'max_depth': 6, 'min_samples_leaf': 6, 'n_estimators': 110}\n",
      "rmse: 38.382505876363886\n",
      "\n",
      "{'max_depth': 6, 'min_samples_leaf': 9, 'n_estimators': 10}\n",
      "rmse: 38.617092241953564\n",
      "\n",
      "{'max_depth': 6, 'min_samples_leaf': 9, 'n_estimators': 30}\n",
      "rmse: 38.68647048234511\n",
      "\n",
      "{'max_depth': 6, 'min_samples_leaf': 9, 'n_estimators': 50}\n",
      "rmse: 38.52514861094752\n",
      "\n",
      "{'max_depth': 6, 'min_samples_leaf': 9, 'n_estimators': 70}\n",
      "rmse: 38.50592963252833\n",
      "\n",
      "{'max_depth': 6, 'min_samples_leaf': 9, 'n_estimators': 90}\n",
      "rmse: 38.43949757406491\n",
      "\n",
      "{'max_depth': 6, 'min_samples_leaf': 9, 'n_estimators': 110}\n",
      "rmse: 38.43882035744654\n",
      "\n",
      "{'max_depth': 6, 'min_samples_leaf': 12, 'n_estimators': 10}\n",
      "rmse: 38.61022723966663\n",
      "\n",
      "{'max_depth': 6, 'min_samples_leaf': 12, 'n_estimators': 30}\n",
      "rmse: 38.5718442550415\n",
      "\n",
      "{'max_depth': 6, 'min_samples_leaf': 12, 'n_estimators': 50}\n",
      "rmse: 38.41285235770374\n",
      "\n",
      "{'max_depth': 6, 'min_samples_leaf': 12, 'n_estimators': 70}\n",
      "rmse: 38.383294127473086\n",
      "\n",
      "{'max_depth': 6, 'min_samples_leaf': 12, 'n_estimators': 90}\n",
      "rmse: 38.37528797560567\n",
      "\n",
      "{'max_depth': 6, 'min_samples_leaf': 12, 'n_estimators': 110}\n",
      "rmse: 38.398270550799744\n",
      "\n",
      "{'max_depth': 6, 'min_samples_leaf': 15, 'n_estimators': 10}\n",
      "rmse: 38.739823345971686\n",
      "\n",
      "{'max_depth': 6, 'min_samples_leaf': 15, 'n_estimators': 30}\n",
      "rmse: 38.65674572314055\n",
      "\n",
      "{'max_depth': 6, 'min_samples_leaf': 15, 'n_estimators': 50}\n",
      "rmse: 38.566423647255306\n",
      "\n",
      "{'max_depth': 6, 'min_samples_leaf': 15, 'n_estimators': 70}\n",
      "rmse: 38.547885306326286\n",
      "\n",
      "{'max_depth': 6, 'min_samples_leaf': 15, 'n_estimators': 90}\n",
      "rmse: 38.53418230275969\n",
      "\n",
      "{'max_depth': 6, 'min_samples_leaf': 15, 'n_estimators': 110}\n",
      "rmse: 38.594448600398216\n",
      "\n",
      "{'max_depth': 6, 'min_samples_leaf': 18, 'n_estimators': 10}\n",
      "rmse: 39.06878626102688\n",
      "\n",
      "{'max_depth': 6, 'min_samples_leaf': 18, 'n_estimators': 30}\n",
      "rmse: 38.97770883883998\n",
      "\n",
      "{'max_depth': 6, 'min_samples_leaf': 18, 'n_estimators': 50}\n",
      "rmse: 38.77436953168668\n",
      "\n",
      "{'max_depth': 6, 'min_samples_leaf': 18, 'n_estimators': 70}\n",
      "rmse: 38.759083171645294\n",
      "\n",
      "{'max_depth': 6, 'min_samples_leaf': 18, 'n_estimators': 90}\n",
      "rmse: 38.75227195153892\n",
      "\n",
      "{'max_depth': 6, 'min_samples_leaf': 18, 'n_estimators': 110}\n",
      "rmse: 38.831516001992256\n",
      "\n",
      "{'max_depth': 9, 'min_samples_leaf': 3, 'n_estimators': 10}\n",
      "rmse: 35.83878356853637\n",
      "\n",
      "{'max_depth': 9, 'min_samples_leaf': 3, 'n_estimators': 30}\n",
      "rmse: 35.23484642845744\n",
      "\n",
      "{'max_depth': 9, 'min_samples_leaf': 3, 'n_estimators': 50}\n",
      "rmse: 35.26097920629879\n",
      "\n",
      "{'max_depth': 9, 'min_samples_leaf': 3, 'n_estimators': 70}\n",
      "rmse: 35.22866187186982\n",
      "\n",
      "{'max_depth': 9, 'min_samples_leaf': 3, 'n_estimators': 90}\n",
      "rmse: 35.207855536994785\n",
      "\n",
      "{'max_depth': 9, 'min_samples_leaf': 3, 'n_estimators': 110}\n",
      "rmse: 35.25953147986039\n",
      "\n",
      "{'max_depth': 9, 'min_samples_leaf': 6, 'n_estimators': 10}\n",
      "rmse: 36.065615622239434\n",
      "\n",
      "{'max_depth': 9, 'min_samples_leaf': 6, 'n_estimators': 30}\n",
      "rmse: 35.54130707474379\n",
      "\n",
      "{'max_depth': 9, 'min_samples_leaf': 6, 'n_estimators': 50}\n",
      "rmse: 35.4442609190719\n",
      "\n",
      "{'max_depth': 9, 'min_samples_leaf': 6, 'n_estimators': 70}\n",
      "rmse: 35.38638216090648\n",
      "\n",
      "{'max_depth': 9, 'min_samples_leaf': 6, 'n_estimators': 90}\n",
      "rmse: 35.36350315943434\n",
      "\n",
      "{'max_depth': 9, 'min_samples_leaf': 6, 'n_estimators': 110}\n",
      "rmse: 35.46256732231109\n",
      "\n",
      "{'max_depth': 9, 'min_samples_leaf': 9, 'n_estimators': 10}\n",
      "rmse: 36.202637772204596\n",
      "\n",
      "{'max_depth': 9, 'min_samples_leaf': 9, 'n_estimators': 30}\n",
      "rmse: 35.61030180655716\n",
      "\n",
      "{'max_depth': 9, 'min_samples_leaf': 9, 'n_estimators': 50}\n",
      "rmse: 35.502123920872926\n",
      "\n",
      "{'max_depth': 9, 'min_samples_leaf': 9, 'n_estimators': 70}\n",
      "rmse: 35.44949336721655\n",
      "\n",
      "{'max_depth': 9, 'min_samples_leaf': 9, 'n_estimators': 90}\n",
      "rmse: 35.44544001154037\n",
      "\n",
      "{'max_depth': 9, 'min_samples_leaf': 9, 'n_estimators': 110}\n",
      "rmse: 35.595459614080745\n",
      "\n",
      "{'max_depth': 9, 'min_samples_leaf': 12, 'n_estimators': 10}\n",
      "rmse: 36.41648102817977\n",
      "\n",
      "{'max_depth': 9, 'min_samples_leaf': 12, 'n_estimators': 30}\n",
      "rmse: 35.65234640016682\n",
      "\n",
      "{'max_depth': 9, 'min_samples_leaf': 12, 'n_estimators': 50}\n",
      "rmse: 35.56024839615866\n",
      "\n",
      "{'max_depth': 9, 'min_samples_leaf': 12, 'n_estimators': 70}\n",
      "rmse: 35.553625612372635\n",
      "\n",
      "{'max_depth': 9, 'min_samples_leaf': 12, 'n_estimators': 90}\n",
      "rmse: 35.67544459473768\n",
      "\n",
      "{'max_depth': 9, 'min_samples_leaf': 12, 'n_estimators': 110}\n",
      "rmse: 35.820932833303566\n",
      "\n",
      "{'max_depth': 9, 'min_samples_leaf': 15, 'n_estimators': 10}\n",
      "rmse: 37.061461213990356\n",
      "\n",
      "{'max_depth': 9, 'min_samples_leaf': 15, 'n_estimators': 30}\n",
      "rmse: 36.113007435425516\n",
      "\n",
      "{'max_depth': 9, 'min_samples_leaf': 15, 'n_estimators': 50}\n",
      "rmse: 36.07049710025594\n",
      "\n",
      "{'max_depth': 9, 'min_samples_leaf': 15, 'n_estimators': 70}\n",
      "rmse: 36.10664370395173\n",
      "\n",
      "{'max_depth': 9, 'min_samples_leaf': 15, 'n_estimators': 90}\n",
      "rmse: 36.21855703978987\n",
      "\n",
      "{'max_depth': 9, 'min_samples_leaf': 15, 'n_estimators': 110}\n",
      "rmse: 36.37397832393675\n",
      "\n",
      "{'max_depth': 9, 'min_samples_leaf': 18, 'n_estimators': 10}\n",
      "rmse: 37.522260415505876\n",
      "\n",
      "{'max_depth': 9, 'min_samples_leaf': 18, 'n_estimators': 30}\n",
      "rmse: 36.8209552808964\n",
      "\n",
      "{'max_depth': 9, 'min_samples_leaf': 18, 'n_estimators': 50}\n",
      "rmse: 36.63277282761734\n",
      "\n",
      "{'max_depth': 9, 'min_samples_leaf': 18, 'n_estimators': 70}\n",
      "rmse: 36.63982533516429\n",
      "\n",
      "{'max_depth': 9, 'min_samples_leaf': 18, 'n_estimators': 90}\n",
      "rmse: 36.718041685004756\n",
      "\n",
      "{'max_depth': 9, 'min_samples_leaf': 18, 'n_estimators': 110}\n",
      "rmse: 36.87637312886143\n",
      "\n",
      "{'max_depth': 12, 'min_samples_leaf': 3, 'n_estimators': 10}\n",
      "rmse: 35.226280982401924\n",
      "\n",
      "{'max_depth': 12, 'min_samples_leaf': 3, 'n_estimators': 30}\n",
      "rmse: 34.02695938556788\n",
      "\n",
      "{'max_depth': 12, 'min_samples_leaf': 3, 'n_estimators': 50}\n",
      "rmse: 33.797768591139636\n",
      "\n",
      "{'max_depth': 12, 'min_samples_leaf': 3, 'n_estimators': 70}\n",
      "rmse: 33.78032690259599\n",
      "\n",
      "{'max_depth': 12, 'min_samples_leaf': 3, 'n_estimators': 90}\n",
      "rmse: 33.86403708942097\n",
      "\n",
      "{'max_depth': 12, 'min_samples_leaf': 3, 'n_estimators': 110}\n",
      "rmse: 33.94943345244898\n",
      "\n",
      "{'max_depth': 12, 'min_samples_leaf': 6, 'n_estimators': 10}\n",
      "rmse: 35.62616442801863\n",
      "\n",
      "{'max_depth': 12, 'min_samples_leaf': 6, 'n_estimators': 30}\n",
      "rmse: 34.599053415090104\n",
      "\n",
      "{'max_depth': 12, 'min_samples_leaf': 6, 'n_estimators': 50}\n",
      "rmse: 34.4498733919053\n",
      "\n",
      "{'max_depth': 12, 'min_samples_leaf': 6, 'n_estimators': 70}\n",
      "rmse: 34.335804281751436\n",
      "\n",
      "{'max_depth': 12, 'min_samples_leaf': 6, 'n_estimators': 90}\n",
      "rmse: 34.338829780956466\n",
      "\n",
      "{'max_depth': 12, 'min_samples_leaf': 6, 'n_estimators': 110}\n",
      "rmse: 34.45747575800602\n",
      "\n",
      "{'max_depth': 12, 'min_samples_leaf': 9, 'n_estimators': 10}\n",
      "rmse: 35.254732810280096\n",
      "\n",
      "{'max_depth': 12, 'min_samples_leaf': 9, 'n_estimators': 30}\n",
      "rmse: 34.68381987458925\n",
      "\n",
      "{'max_depth': 12, 'min_samples_leaf': 9, 'n_estimators': 50}\n",
      "rmse: 34.66338092900089\n",
      "\n",
      "{'max_depth': 12, 'min_samples_leaf': 9, 'n_estimators': 70}\n",
      "rmse: 34.62775240928255\n",
      "\n",
      "{'max_depth': 12, 'min_samples_leaf': 9, 'n_estimators': 90}\n",
      "rmse: 34.65096780480949\n",
      "\n",
      "{'max_depth': 12, 'min_samples_leaf': 9, 'n_estimators': 110}\n",
      "rmse: 34.8475477647418\n",
      "\n",
      "{'max_depth': 12, 'min_samples_leaf': 12, 'n_estimators': 10}\n",
      "rmse: 35.26378980720441\n",
      "\n",
      "{'max_depth': 12, 'min_samples_leaf': 12, 'n_estimators': 30}\n",
      "rmse: 34.74561796761777\n",
      "\n",
      "{'max_depth': 12, 'min_samples_leaf': 12, 'n_estimators': 50}\n",
      "rmse: 34.77895173127649\n",
      "\n",
      "{'max_depth': 12, 'min_samples_leaf': 12, 'n_estimators': 70}\n",
      "rmse: 34.80016004913031\n",
      "\n",
      "{'max_depth': 12, 'min_samples_leaf': 12, 'n_estimators': 90}\n",
      "rmse: 34.96378189580642\n",
      "\n",
      "{'max_depth': 12, 'min_samples_leaf': 12, 'n_estimators': 110}\n",
      "rmse: 35.13097726697678\n",
      "\n",
      "{'max_depth': 12, 'min_samples_leaf': 15, 'n_estimators': 10}\n",
      "rmse: 36.59562964409199\n",
      "\n",
      "{'max_depth': 12, 'min_samples_leaf': 15, 'n_estimators': 30}\n",
      "rmse: 35.55422000397841\n",
      "\n",
      "{'max_depth': 12, 'min_samples_leaf': 15, 'n_estimators': 50}\n",
      "rmse: 35.621361789603064\n",
      "\n",
      "{'max_depth': 12, 'min_samples_leaf': 15, 'n_estimators': 70}\n",
      "rmse: 35.63482188012036\n",
      "\n",
      "{'max_depth': 12, 'min_samples_leaf': 15, 'n_estimators': 90}\n",
      "rmse: 35.748626765631286\n",
      "\n",
      "{'max_depth': 12, 'min_samples_leaf': 15, 'n_estimators': 110}\n",
      "rmse: 35.90229564367016\n",
      "\n",
      "{'max_depth': 12, 'min_samples_leaf': 18, 'n_estimators': 10}\n",
      "rmse: 37.341403291246934\n",
      "\n",
      "{'max_depth': 12, 'min_samples_leaf': 18, 'n_estimators': 30}\n",
      "rmse: 36.40413436427185\n",
      "\n",
      "{'max_depth': 12, 'min_samples_leaf': 18, 'n_estimators': 50}\n",
      "rmse: 36.299263381448796\n",
      "\n",
      "{'max_depth': 12, 'min_samples_leaf': 18, 'n_estimators': 70}\n",
      "rmse: 36.31380607262236\n",
      "\n",
      "{'max_depth': 12, 'min_samples_leaf': 18, 'n_estimators': 90}\n",
      "rmse: 36.37915938040957\n",
      "\n",
      "{'max_depth': 12, 'min_samples_leaf': 18, 'n_estimators': 110}\n",
      "rmse: 36.530771701782896\n",
      "\n",
      "{'max_depth': 15, 'min_samples_leaf': 3, 'n_estimators': 10}\n",
      "rmse: 35.36612896115498\n",
      "\n",
      "{'max_depth': 15, 'min_samples_leaf': 3, 'n_estimators': 30}\n",
      "rmse: 33.87679898592383\n",
      "\n",
      "{'max_depth': 15, 'min_samples_leaf': 3, 'n_estimators': 50}\n",
      "rmse: 33.78012075705412\n",
      "\n",
      "{'max_depth': 15, 'min_samples_leaf': 3, 'n_estimators': 70}\n",
      "rmse: 33.632670984709065\n",
      "\n",
      "{'max_depth': 15, 'min_samples_leaf': 3, 'n_estimators': 90}\n",
      "rmse: 33.66243777160835\n",
      "\n",
      "{'max_depth': 15, 'min_samples_leaf': 3, 'n_estimators': 110}\n",
      "rmse: 33.66683679917015\n",
      "\n",
      "{'max_depth': 15, 'min_samples_leaf': 6, 'n_estimators': 10}\n",
      "rmse: 35.22362810013869\n",
      "\n",
      "{'max_depth': 15, 'min_samples_leaf': 6, 'n_estimators': 30}\n",
      "rmse: 34.20591329091772\n",
      "\n",
      "{'max_depth': 15, 'min_samples_leaf': 6, 'n_estimators': 50}\n",
      "rmse: 34.1741933580722\n",
      "\n",
      "{'max_depth': 15, 'min_samples_leaf': 6, 'n_estimators': 70}\n",
      "rmse: 34.047419410780336\n",
      "\n",
      "{'max_depth': 15, 'min_samples_leaf': 6, 'n_estimators': 90}\n",
      "rmse: 34.094839218267765\n",
      "\n",
      "{'max_depth': 15, 'min_samples_leaf': 6, 'n_estimators': 110}\n",
      "rmse: 34.19222561302815\n",
      "\n",
      "{'max_depth': 15, 'min_samples_leaf': 9, 'n_estimators': 10}\n",
      "rmse: 35.21751160046615\n",
      "\n",
      "{'max_depth': 15, 'min_samples_leaf': 9, 'n_estimators': 30}\n",
      "rmse: 34.55530650347492\n",
      "\n",
      "{'max_depth': 15, 'min_samples_leaf': 9, 'n_estimators': 50}\n",
      "rmse: 34.53979421381288\n",
      "\n",
      "{'max_depth': 15, 'min_samples_leaf': 9, 'n_estimators': 70}\n",
      "rmse: 34.49110813025068\n",
      "\n",
      "{'max_depth': 15, 'min_samples_leaf': 9, 'n_estimators': 90}\n",
      "rmse: 34.52280913322889\n",
      "\n",
      "{'max_depth': 15, 'min_samples_leaf': 9, 'n_estimators': 110}\n",
      "rmse: 34.71797244095035\n",
      "\n",
      "{'max_depth': 15, 'min_samples_leaf': 12, 'n_estimators': 10}\n",
      "rmse: 35.12429891285053\n",
      "\n",
      "{'max_depth': 15, 'min_samples_leaf': 12, 'n_estimators': 30}\n",
      "rmse: 34.651610862430026\n",
      "\n",
      "{'max_depth': 15, 'min_samples_leaf': 12, 'n_estimators': 50}\n",
      "rmse: 34.70328194864624\n",
      "\n",
      "{'max_depth': 15, 'min_samples_leaf': 12, 'n_estimators': 70}\n",
      "rmse: 34.73230820026519\n",
      "\n",
      "{'max_depth': 15, 'min_samples_leaf': 12, 'n_estimators': 90}\n",
      "rmse: 34.9049377438871\n",
      "\n",
      "{'max_depth': 15, 'min_samples_leaf': 12, 'n_estimators': 110}\n",
      "rmse: 35.07076449808875\n",
      "\n",
      "{'max_depth': 15, 'min_samples_leaf': 15, 'n_estimators': 10}\n",
      "rmse: 36.44962063668811\n",
      "\n",
      "{'max_depth': 15, 'min_samples_leaf': 15, 'n_estimators': 30}\n",
      "rmse: 35.4916958372963\n",
      "\n",
      "{'max_depth': 15, 'min_samples_leaf': 15, 'n_estimators': 50}\n",
      "rmse: 35.56771800098231\n",
      "\n",
      "{'max_depth': 15, 'min_samples_leaf': 15, 'n_estimators': 70}\n",
      "rmse: 35.58756579782815\n",
      "\n",
      "{'max_depth': 15, 'min_samples_leaf': 15, 'n_estimators': 90}\n",
      "rmse: 35.69789521681594\n",
      "\n",
      "{'max_depth': 15, 'min_samples_leaf': 15, 'n_estimators': 110}\n",
      "rmse: 35.853541009058176\n",
      "\n",
      "{'max_depth': 15, 'min_samples_leaf': 18, 'n_estimators': 10}\n",
      "rmse: 37.35089498813282\n",
      "\n",
      "{'max_depth': 15, 'min_samples_leaf': 18, 'n_estimators': 30}\n",
      "rmse: 36.41475271505014\n",
      "\n",
      "{'max_depth': 15, 'min_samples_leaf': 18, 'n_estimators': 50}\n",
      "rmse: 36.29337222161801\n",
      "\n",
      "{'max_depth': 15, 'min_samples_leaf': 18, 'n_estimators': 70}\n",
      "rmse: 36.311637762382\n",
      "\n",
      "{'max_depth': 15, 'min_samples_leaf': 18, 'n_estimators': 90}\n",
      "rmse: 36.37795755980755\n",
      "\n",
      "{'max_depth': 15, 'min_samples_leaf': 18, 'n_estimators': 110}\n",
      "rmse: 36.518154614668205\n",
      "\n",
      "{'max_depth': 18, 'min_samples_leaf': 3, 'n_estimators': 10}\n",
      "rmse: 35.25915656116956\n",
      "\n",
      "{'max_depth': 18, 'min_samples_leaf': 3, 'n_estimators': 30}\n",
      "rmse: 33.70779114777619\n",
      "\n",
      "{'max_depth': 18, 'min_samples_leaf': 3, 'n_estimators': 50}\n",
      "rmse: 33.68670604695533\n",
      "\n",
      "{'max_depth': 18, 'min_samples_leaf': 3, 'n_estimators': 70}\n",
      "rmse: 33.4464401738574\n",
      "\n",
      "{'max_depth': 18, 'min_samples_leaf': 3, 'n_estimators': 90}\n",
      "rmse: 33.46747624258405\n",
      "\n",
      "{'max_depth': 18, 'min_samples_leaf': 3, 'n_estimators': 110}\n",
      "rmse: 33.502899402037706\n",
      "\n",
      "{'max_depth': 18, 'min_samples_leaf': 6, 'n_estimators': 10}\n",
      "rmse: 35.22816984048799\n",
      "\n",
      "{'max_depth': 18, 'min_samples_leaf': 6, 'n_estimators': 30}\n",
      "rmse: 34.184690993821754\n",
      "\n",
      "{'max_depth': 18, 'min_samples_leaf': 6, 'n_estimators': 50}\n",
      "rmse: 34.16770584006264\n",
      "\n",
      "{'max_depth': 18, 'min_samples_leaf': 6, 'n_estimators': 70}\n",
      "rmse: 34.01904163631046\n",
      "\n",
      "{'max_depth': 18, 'min_samples_leaf': 6, 'n_estimators': 90}\n",
      "rmse: 34.06663825870093\n",
      "\n",
      "{'max_depth': 18, 'min_samples_leaf': 6, 'n_estimators': 110}\n",
      "rmse: 34.180889068968014\n",
      "\n",
      "{'max_depth': 18, 'min_samples_leaf': 9, 'n_estimators': 10}\n",
      "rmse: 35.219864188630964\n",
      "\n",
      "{'max_depth': 18, 'min_samples_leaf': 9, 'n_estimators': 30}\n",
      "rmse: 34.55267030203005\n",
      "\n",
      "{'max_depth': 18, 'min_samples_leaf': 9, 'n_estimators': 50}\n",
      "rmse: 34.51305115124211\n",
      "\n",
      "{'max_depth': 18, 'min_samples_leaf': 9, 'n_estimators': 70}\n",
      "rmse: 34.463664396663454\n",
      "\n",
      "{'max_depth': 18, 'min_samples_leaf': 9, 'n_estimators': 90}\n",
      "rmse: 34.488344361322845\n",
      "\n",
      "{'max_depth': 18, 'min_samples_leaf': 9, 'n_estimators': 110}\n",
      "rmse: 34.686122038344365\n",
      "\n",
      "{'max_depth': 18, 'min_samples_leaf': 12, 'n_estimators': 10}\n",
      "rmse: 35.12204041197249\n",
      "\n",
      "{'max_depth': 18, 'min_samples_leaf': 12, 'n_estimators': 30}\n",
      "rmse: 34.652484802896424\n",
      "\n",
      "{'max_depth': 18, 'min_samples_leaf': 12, 'n_estimators': 50}\n",
      "rmse: 34.686323313577006\n",
      "\n",
      "{'max_depth': 18, 'min_samples_leaf': 12, 'n_estimators': 70}\n",
      "rmse: 34.71843929388486\n",
      "\n",
      "{'max_depth': 18, 'min_samples_leaf': 12, 'n_estimators': 90}\n",
      "rmse: 34.877606328021365\n",
      "\n",
      "{'max_depth': 18, 'min_samples_leaf': 12, 'n_estimators': 110}\n",
      "rmse: 35.046936622216336\n",
      "\n",
      "{'max_depth': 18, 'min_samples_leaf': 15, 'n_estimators': 10}\n",
      "rmse: 36.44595150992058\n",
      "\n",
      "{'max_depth': 18, 'min_samples_leaf': 15, 'n_estimators': 30}\n",
      "rmse: 35.484671806597056\n",
      "\n",
      "{'max_depth': 18, 'min_samples_leaf': 15, 'n_estimators': 50}\n",
      "rmse: 35.55823755897055\n",
      "\n",
      "{'max_depth': 18, 'min_samples_leaf': 15, 'n_estimators': 70}\n",
      "rmse: 35.58188146777357\n",
      "\n",
      "{'max_depth': 18, 'min_samples_leaf': 15, 'n_estimators': 90}\n",
      "rmse: 35.68588639485384\n",
      "\n",
      "{'max_depth': 18, 'min_samples_leaf': 15, 'n_estimators': 110}\n",
      "rmse: 35.84369359142416\n",
      "\n",
      "{'max_depth': 18, 'min_samples_leaf': 18, 'n_estimators': 10}\n",
      "rmse: 37.35089498813282\n",
      "\n",
      "{'max_depth': 18, 'min_samples_leaf': 18, 'n_estimators': 30}\n",
      "rmse: 36.41449199005355\n",
      "\n",
      "{'max_depth': 18, 'min_samples_leaf': 18, 'n_estimators': 50}\n",
      "rmse: 36.28823541896544\n",
      "\n",
      "{'max_depth': 18, 'min_samples_leaf': 18, 'n_estimators': 70}\n",
      "rmse: 36.30666858294763\n",
      "\n",
      "{'max_depth': 18, 'min_samples_leaf': 18, 'n_estimators': 90}\n",
      "rmse: 36.372368610237956\n",
      "\n",
      "{'max_depth': 18, 'min_samples_leaf': 18, 'n_estimators': 110}\n",
      "rmse: 36.51353252222095\n",
      "\n"
     ]
    }
   ],
   "source": [
    "#Обучение, проверка и подбор лучших параметров модели RandomForestRegressor:\n",
    "\n",
    "#Словарь с названиями гиперпараметров и их значениями для тюнинга модели:\n",
    "forest_params = {'n_estimators': range(10, 111, 20),\n",
    "                 'max_depth': range(3, 19, 3),\n",
    "                 'min_samples_leaf': range(3, 19, 3)\n",
    "                }\n",
    "\n",
    "#Создание совокупностей параметров из словаря:\n",
    "forest_grid = ParameterGrid(forest_params)\n",
    "\n",
    "min_rmse = 1000\n",
    "best_params = {}\n",
    "\n",
    "#Обучение и поиск самой качественной модели случайного леса:\n",
    "for params in forest_grid:\n",
    "    \n",
    "    print(params)\n",
    "    \n",
    "    model = RandomForestRegressor(random_state=1000, **params)\n",
    "    model.fit(features_ohe_train, target_train)\n",
    "    predictions = model.predict(features_ohe_valid)\n",
    "\n",
    "    rmse = mean_squared_error(target_valid, predictions)**0.5\n",
    "    if rmse < min_rmse:\n",
    "        min_rmse = rmse\n",
    "        best_params = params\n",
    "        \n",
    "    print('rmse:', rmse)\n",
    "    print()"
   ]
  },
  {
   "cell_type": "code",
   "execution_count": 21,
   "metadata": {},
   "outputs": [
    {
     "name": "stdout",
     "output_type": "stream",
     "text": [
      "Лучшая rmse: 33.4464401738574 \n",
      "\n",
      "Гиперпараметры лучшей модели:\n",
      " {'max_depth': 18, 'min_samples_leaf': 3, 'n_estimators': 70}\n"
     ]
    }
   ],
   "source": [
    "#Лучшая метрика rmse с гиперпараметрами, при которых она была достигнута:\n",
    "print('Лучшая rmse:', min_rmse, '\\n')\n",
    "print('Гиперпараметры лучшей модели:\\n', best_params)"
   ]
  },
  {
   "cell_type": "markdown",
   "metadata": {},
   "source": [
    "Теперь обучу модели грандиентного бустинга (библиотека catboost) с разными гиперпараметрами, а затем сравню качество лучшей модели RandomForestRegressor с лучшей моделью catboost."
   ]
  },
  {
   "cell_type": "code",
   "execution_count": 22,
   "metadata": {},
   "outputs": [],
   "source": [
    "categorial = ['hour', 'day_of_week'] #список категориальных признаков\n",
    "\n",
    "#Подготовленная обучающая выборка в формате catboost'а:\n",
    "train_pool = Pool(features_train,\n",
    "                  label=target_train,\n",
    "                  cat_features=categorial\n",
    "                  )\n",
    "\n",
    "#Подготовленная валидационная выборка в формате catboost'а:\n",
    "valid_pool = Pool(features_valid,\n",
    "                  label=target_valid,\n",
    "                  cat_features=categorial\n",
    "                  )"
   ]
  },
  {
   "cell_type": "code",
   "execution_count": 23,
   "metadata": {
    "scrolled": true
   },
   "outputs": [
    {
     "name": "stdout",
     "output_type": "stream",
     "text": [
      "{'cat_features': ['hour', 'day_of_week'], 'depth': 4, 'early_stopping_rounds': 100, 'iterations': 1000, 'learning_rate': 0.005, 'loss_function': 'RMSE', 'random_seed': 1000, 'verbose': 100}\n",
      "0:\tlearn: 35.6664960\ttest: 58.3534087\tbest: 58.3534087 (0)\ttotal: 50.5ms\tremaining: 50.5s\n",
      "100:\tlearn: 29.7420903\ttest: 50.6754882\tbest: 50.6754882 (100)\ttotal: 2.17s\tremaining: 19.3s\n",
      "200:\tlearn: 26.5440737\ttest: 45.8488633\tbest: 45.8488633 (200)\ttotal: 4.3s\tremaining: 17.1s\n",
      "300:\tlearn: 24.8154758\ttest: 42.5947596\tbest: 42.5947596 (300)\ttotal: 6.36s\tremaining: 14.8s\n",
      "400:\tlearn: 23.8197681\ttest: 40.1790701\tbest: 40.1790701 (400)\ttotal: 8.99s\tremaining: 13.4s\n",
      "500:\tlearn: 23.1489581\ttest: 38.4311423\tbest: 38.4311423 (500)\ttotal: 11s\tremaining: 11s\n",
      "600:\tlearn: 22.6788133\ttest: 37.0396814\tbest: 37.0396814 (600)\ttotal: 13.1s\tremaining: 8.69s\n",
      "700:\tlearn: 22.3546038\ttest: 36.0144459\tbest: 36.0144459 (700)\ttotal: 15.2s\tremaining: 6.5s\n",
      "800:\tlearn: 22.1214680\ttest: 35.2727892\tbest: 35.2727892 (800)\ttotal: 17.4s\tremaining: 4.32s\n",
      "900:\tlearn: 21.9409514\ttest: 34.6810986\tbest: 34.6810986 (900)\ttotal: 19.5s\tremaining: 2.15s\n",
      "999:\tlearn: 21.7948824\ttest: 34.1614011\tbest: 34.1614011 (999)\ttotal: 22s\tremaining: 0us\n",
      "\n",
      "bestTest = 34.16140114\n",
      "bestIteration = 999\n",
      "\n",
      "{'cat_features': ['hour', 'day_of_week'], 'depth': 4, 'early_stopping_rounds': 100, 'iterations': 1000, 'learning_rate': 0.01, 'loss_function': 'RMSE', 'random_seed': 1000, 'verbose': 100}\n",
      "0:\tlearn: 35.5946239\ttest: 58.2743397\tbest: 58.2743397 (0)\ttotal: 3.88ms\tremaining: 3.87s\n",
      "100:\tlearn: 26.4793168\ttest: 45.8805702\tbest: 45.8805702 (100)\ttotal: 2.8s\tremaining: 24.9s\n",
      "200:\tlearn: 23.7723264\ttest: 40.2044685\tbest: 40.2044685 (200)\ttotal: 5.34s\tremaining: 21.2s\n",
      "300:\tlearn: 22.7425211\ttest: 37.0731734\tbest: 37.0731734 (300)\ttotal: 7.59s\tremaining: 17.6s\n",
      "400:\tlearn: 22.1317814\ttest: 35.2267878\tbest: 35.2267878 (400)\ttotal: 10s\tremaining: 15s\n",
      "500:\tlearn: 21.7865486\ttest: 34.1087804\tbest: 34.1087804 (500)\ttotal: 12.2s\tremaining: 12.1s\n",
      "600:\tlearn: 21.5518372\ttest: 33.4996928\tbest: 33.4996928 (600)\ttotal: 14.4s\tremaining: 9.57s\n",
      "700:\tlearn: 21.3305522\ttest: 32.9990319\tbest: 32.9990319 (700)\ttotal: 16.5s\tremaining: 7.03s\n",
      "800:\tlearn: 21.1448159\ttest: 32.7012684\tbest: 32.7012684 (800)\ttotal: 18.9s\tremaining: 4.7s\n",
      "900:\tlearn: 20.9594780\ttest: 32.4440457\tbest: 32.4440457 (900)\ttotal: 21.9s\tremaining: 2.4s\n",
      "999:\tlearn: 20.7755351\ttest: 32.2929853\tbest: 32.2929853 (999)\ttotal: 25.4s\tremaining: 0us\n",
      "\n",
      "bestTest = 32.29298526\n",
      "bestIteration = 999\n",
      "\n",
      "{'cat_features': ['hour', 'day_of_week'], 'depth': 4, 'early_stopping_rounds': 100, 'iterations': 1000, 'learning_rate': 0.05, 'loss_function': 'RMSE', 'random_seed': 1000, 'verbose': 100}\n",
      "0:\tlearn: 35.0273924\ttest: 57.6456236\tbest: 57.6456236 (0)\ttotal: 3.26ms\tremaining: 3.25s\n",
      "100:\tlearn: 21.9601900\ttest: 34.3225248\tbest: 34.3225248 (100)\ttotal: 2.12s\tremaining: 18.8s\n",
      "200:\tlearn: 20.9326976\ttest: 32.1508095\tbest: 32.1508095 (200)\ttotal: 4.36s\tremaining: 17.3s\n",
      "300:\tlearn: 20.1837087\ttest: 31.8724133\tbest: 31.8574233 (279)\ttotal: 7.3s\tremaining: 17s\n",
      "400:\tlearn: 19.4532379\ttest: 31.7302941\tbest: 31.7100155 (398)\ttotal: 9.85s\tremaining: 14.7s\n",
      "500:\tlearn: 18.8282380\ttest: 31.5775180\tbest: 31.5742698 (499)\ttotal: 12.1s\tremaining: 12s\n",
      "600:\tlearn: 18.3425157\ttest: 31.4404056\tbest: 31.4304119 (597)\ttotal: 14.3s\tremaining: 9.46s\n",
      "700:\tlearn: 17.8231699\ttest: 31.3793011\tbest: 31.3760777 (699)\ttotal: 16.5s\tremaining: 7.03s\n",
      "800:\tlearn: 17.3741601\ttest: 31.3791013\tbest: 31.3607519 (716)\ttotal: 18.7s\tremaining: 4.66s\n",
      "Stopped by overfitting detector  (100 iterations wait)\n",
      "\n",
      "bestTest = 31.36075191\n",
      "bestIteration = 716\n",
      "\n",
      "Shrink model to first 717 iterations.\n",
      "{'cat_features': ['hour', 'day_of_week'], 'depth': 4, 'early_stopping_rounds': 100, 'iterations': 1000, 'learning_rate': 0.1, 'loss_function': 'RMSE', 'random_seed': 1000, 'verbose': 100}\n",
      "0:\tlearn: 34.3384718\ttest: 56.8695687\tbest: 56.8695687 (0)\ttotal: 3.23ms\tremaining: 3.22s\n",
      "100:\tlearn: 20.9163516\ttest: 32.4190816\tbest: 32.4190816 (100)\ttotal: 2.13s\tremaining: 18.9s\n",
      "200:\tlearn: 19.3674002\ttest: 31.6281401\tbest: 31.6033396 (199)\ttotal: 4.37s\tremaining: 17.4s\n",
      "300:\tlearn: 18.2637167\ttest: 31.4980830\tbest: 31.4123090 (279)\ttotal: 6.62s\tremaining: 15.4s\n",
      "400:\tlearn: 17.3598399\ttest: 31.4695283\tbest: 31.3442263 (362)\ttotal: 8.87s\tremaining: 13.3s\n",
      "Stopped by overfitting detector  (100 iterations wait)\n",
      "\n",
      "bestTest = 31.34422625\n",
      "bestIteration = 362\n",
      "\n",
      "Shrink model to first 363 iterations.\n",
      "{'cat_features': ['hour', 'day_of_week'], 'depth': 6, 'early_stopping_rounds': 100, 'iterations': 1000, 'learning_rate': 0.005, 'loss_function': 'RMSE', 'random_seed': 1000, 'verbose': 100}\n",
      "0:\tlearn: 35.6563693\ttest: 58.3476192\tbest: 58.3476192 (0)\ttotal: 6.52ms\tremaining: 6.51s\n",
      "100:\tlearn: 29.3133237\ttest: 50.0334104\tbest: 50.0334104 (100)\ttotal: 5.04s\tremaining: 44.9s\n",
      "200:\tlearn: 25.9051264\ttest: 44.8482968\tbest: 44.8482968 (200)\ttotal: 9.48s\tremaining: 37.7s\n",
      "300:\tlearn: 24.0421913\ttest: 41.2444516\tbest: 41.2444516 (300)\ttotal: 12.8s\tremaining: 29.8s\n",
      "400:\tlearn: 22.9691893\ttest: 38.8381304\tbest: 38.8381304 (400)\ttotal: 16.3s\tremaining: 24.3s\n",
      "500:\tlearn: 22.3187664\ttest: 37.1604110\tbest: 37.1604110 (500)\ttotal: 19.7s\tremaining: 19.6s\n",
      "600:\tlearn: 21.7694192\ttest: 35.8687068\tbest: 35.8687068 (600)\ttotal: 23s\tremaining: 15.3s\n",
      "700:\tlearn: 21.3791576\ttest: 34.8888843\tbest: 34.8888843 (700)\ttotal: 26.3s\tremaining: 11.2s\n",
      "800:\tlearn: 21.0854461\ttest: 34.1935150\tbest: 34.1935150 (800)\ttotal: 29.8s\tremaining: 7.41s\n",
      "900:\tlearn: 20.8637756\ttest: 33.7165911\tbest: 33.7165911 (900)\ttotal: 34.1s\tremaining: 3.74s\n",
      "999:\tlearn: 20.6610289\ttest: 33.2772310\tbest: 33.2772310 (999)\ttotal: 39.4s\tremaining: 0us\n",
      "\n",
      "bestTest = 33.27723104\n",
      "bestIteration = 999\n",
      "\n",
      "{'cat_features': ['hour', 'day_of_week'], 'depth': 6, 'early_stopping_rounds': 100, 'iterations': 1000, 'learning_rate': 0.01, 'loss_function': 'RMSE', 'random_seed': 1000, 'verbose': 100}\n",
      "0:\tlearn: 35.5743676\ttest: 58.2627548\tbest: 58.2627548 (0)\ttotal: 4.49ms\tremaining: 4.49s\n",
      "100:\tlearn: 25.9318152\ttest: 44.7952286\tbest: 44.7952286 (100)\ttotal: 3.25s\tremaining: 28.9s\n",
      "200:\tlearn: 23.0235870\ttest: 38.9288392\tbest: 38.9288392 (200)\ttotal: 6.68s\tremaining: 26.6s\n",
      "300:\tlearn: 21.8164631\ttest: 35.8613802\tbest: 35.8613802 (300)\ttotal: 10s\tremaining: 23.3s\n",
      "400:\tlearn: 21.1499376\ttest: 34.2587614\tbest: 34.2587614 (400)\ttotal: 13.4s\tremaining: 20s\n",
      "500:\tlearn: 20.7188859\ttest: 33.2986914\tbest: 33.2986914 (500)\ttotal: 16.7s\tremaining: 16.6s\n",
      "600:\tlearn: 20.3681432\ttest: 32.7198222\tbest: 32.7182484 (599)\ttotal: 20.2s\tremaining: 13.4s\n",
      "700:\tlearn: 20.0335389\ttest: 32.2429095\tbest: 32.2429095 (700)\ttotal: 23.6s\tremaining: 10.1s\n",
      "800:\tlearn: 19.7310931\ttest: 31.9898814\tbest: 31.9898814 (800)\ttotal: 27.1s\tremaining: 6.74s\n",
      "900:\tlearn: 19.4109876\ttest: 31.8274107\tbest: 31.8274107 (900)\ttotal: 30.7s\tremaining: 3.37s\n",
      "999:\tlearn: 19.1274356\ttest: 31.6424141\tbest: 31.6424141 (999)\ttotal: 34.1s\tremaining: 0us\n",
      "\n",
      "bestTest = 31.64241407\n",
      "bestIteration = 999\n",
      "\n",
      "{'cat_features': ['hour', 'day_of_week'], 'depth': 6, 'early_stopping_rounds': 100, 'iterations': 1000, 'learning_rate': 0.05, 'loss_function': 'RMSE', 'random_seed': 1000, 'verbose': 100}\n",
      "0:\tlearn: 34.9260164\ttest: 57.5874575\tbest: 57.5874575 (0)\ttotal: 4.73ms\tremaining: 4.73s\n",
      "100:\tlearn: 20.6428444\ttest: 33.1451480\tbest: 33.1451480 (100)\ttotal: 3.25s\tremaining: 28.9s\n",
      "200:\tlearn: 19.0610691\ttest: 31.7064916\tbest: 31.6379080 (195)\ttotal: 6.78s\tremaining: 26.9s\n",
      "300:\tlearn: 17.8033441\ttest: 31.2563700\tbest: 31.2497575 (299)\ttotal: 10.2s\tremaining: 23.7s\n",
      "400:\tlearn: 16.8388172\ttest: 31.0893178\tbest: 31.0784026 (372)\ttotal: 13.8s\tremaining: 20.6s\n",
      "500:\tlearn: 16.0100662\ttest: 31.0943253\tbest: 31.0365844 (441)\ttotal: 17.5s\tremaining: 17.4s\n",
      "Stopped by overfitting detector  (100 iterations wait)\n",
      "\n",
      "bestTest = 31.03658436\n",
      "bestIteration = 441\n",
      "\n",
      "Shrink model to first 442 iterations.\n",
      "{'cat_features': ['hour', 'day_of_week'], 'depth': 6, 'early_stopping_rounds': 100, 'iterations': 1000, 'learning_rate': 0.1, 'loss_function': 'RMSE', 'random_seed': 1000, 'verbose': 100}\n",
      "0:\tlearn: 34.1355927\ttest: 56.7526374\tbest: 56.7526374 (0)\ttotal: 4.39ms\tremaining: 4.38s\n",
      "100:\tlearn: 19.1800404\ttest: 31.7140376\tbest: 31.7140376 (100)\ttotal: 3.94s\tremaining: 35s\n",
      "200:\tlearn: 16.9422213\ttest: 31.2767053\tbest: 31.2468339 (194)\ttotal: 8.89s\tremaining: 35.3s\n",
      "300:\tlearn: 15.1183379\ttest: 31.2574629\tbest: 31.1747983 (232)\ttotal: 14.2s\tremaining: 33s\n",
      "400:\tlearn: 13.7187990\ttest: 31.2319645\tbest: 31.1258574 (353)\ttotal: 19.6s\tremaining: 29.2s\n",
      "Stopped by overfitting detector  (100 iterations wait)\n",
      "\n",
      "bestTest = 31.1258574\n",
      "bestIteration = 353\n",
      "\n",
      "Shrink model to first 354 iterations.\n",
      "{'cat_features': ['hour', 'day_of_week'], 'depth': 8, 'early_stopping_rounds': 100, 'iterations': 1000, 'learning_rate': 0.005, 'loss_function': 'RMSE', 'random_seed': 1000, 'verbose': 100}\n",
      "0:\tlearn: 35.6531672\ttest: 58.3225567\tbest: 58.3225567 (0)\ttotal: 84.7ms\tremaining: 1m 24s\n",
      "100:\tlearn: 29.0963484\ttest: 49.7021506\tbest: 49.7021506 (100)\ttotal: 8.13s\tremaining: 1m 12s\n",
      "200:\tlearn: 25.4693248\ttest: 44.2818932\tbest: 44.2818932 (200)\ttotal: 16.2s\tremaining: 1m 4s\n",
      "300:\tlearn: 23.4681890\ttest: 40.7530045\tbest: 40.7530045 (300)\ttotal: 22.9s\tremaining: 53.2s\n",
      "400:\tlearn: 22.2586078\ttest: 38.3832691\tbest: 38.3832691 (400)\ttotal: 29.4s\tremaining: 43.9s\n",
      "500:\tlearn: 21.4449871\ttest: 36.7630428\tbest: 36.7630428 (500)\ttotal: 35.5s\tremaining: 35.4s\n",
      "600:\tlearn: 20.7737120\ttest: 35.5104697\tbest: 35.5104697 (600)\ttotal: 41.5s\tremaining: 27.5s\n",
      "700:\tlearn: 20.2615566\ttest: 34.5904705\tbest: 34.5904705 (700)\ttotal: 47.4s\tremaining: 20.2s\n",
      "800:\tlearn: 19.8585651\ttest: 33.9301876\tbest: 33.9301876 (800)\ttotal: 53.5s\tremaining: 13.3s\n",
      "900:\tlearn: 19.5195205\ttest: 33.4687872\tbest: 33.4687872 (900)\ttotal: 59.6s\tremaining: 6.54s\n",
      "999:\tlearn: 19.1941751\ttest: 33.0882219\tbest: 33.0882219 (999)\ttotal: 1m 5s\tremaining: 0us\n",
      "\n",
      "bestTest = 33.08822187\n",
      "bestIteration = 999\n",
      "\n",
      "{'cat_features': ['hour', 'day_of_week'], 'depth': 8, 'early_stopping_rounds': 100, 'iterations': 1000, 'learning_rate': 0.01, 'loss_function': 'RMSE', 'random_seed': 1000, 'verbose': 100}\n",
      "0:\tlearn: 35.5679465\ttest: 58.2126743\tbest: 58.2126743 (0)\ttotal: 7.74ms\tremaining: 7.74s\n",
      "100:\tlearn: 25.4624885\ttest: 44.3279705\tbest: 44.3279705 (100)\ttotal: 5.88s\tremaining: 52.4s\n",
      "200:\tlearn: 22.2188215\ttest: 38.4734490\tbest: 38.4734490 (200)\ttotal: 11.9s\tremaining: 47.4s\n",
      "300:\tlearn: 20.7726854\ttest: 35.5799772\tbest: 35.5799772 (300)\ttotal: 17.9s\tremaining: 41.7s\n",
      "400:\tlearn: 19.8509669\ttest: 34.0068531\tbest: 34.0068531 (400)\ttotal: 24s\tremaining: 35.8s\n",
      "500:\tlearn: 19.1708531\ttest: 33.0908576\tbest: 33.0908576 (500)\ttotal: 30.3s\tremaining: 30.2s\n",
      "600:\tlearn: 18.6306513\ttest: 32.6147085\tbest: 32.6147085 (600)\ttotal: 36.3s\tremaining: 24.1s\n",
      "700:\tlearn: 18.2098474\ttest: 32.2602267\tbest: 32.2602267 (700)\ttotal: 42.4s\tremaining: 18.1s\n",
      "800:\tlearn: 17.7677934\ttest: 32.0086648\tbest: 32.0079363 (799)\ttotal: 48.5s\tremaining: 12s\n",
      "900:\tlearn: 17.3220903\ttest: 31.8597794\tbest: 31.8597794 (900)\ttotal: 55s\tremaining: 6.04s\n",
      "999:\tlearn: 16.9222801\ttest: 31.7539526\tbest: 31.7504221 (995)\ttotal: 1m 1s\tremaining: 0us\n",
      "\n",
      "bestTest = 31.75042206\n",
      "bestIteration = 995\n",
      "\n",
      "Shrink model to first 996 iterations.\n",
      "{'cat_features': ['hour', 'day_of_week'], 'depth': 8, 'early_stopping_rounds': 100, 'iterations': 1000, 'learning_rate': 0.05, 'loss_function': 'RMSE', 'random_seed': 1000, 'verbose': 100}\n",
      "0:\tlearn: 34.8932233\ttest: 57.3388871\tbest: 57.3388871 (0)\ttotal: 7.76ms\tremaining: 7.75s\n",
      "100:\tlearn: 19.2368541\ttest: 32.9681959\tbest: 32.9681959 (100)\ttotal: 6.36s\tremaining: 56.6s\n",
      "200:\tlearn: 16.9518828\ttest: 31.4217774\tbest: 31.4217774 (200)\ttotal: 12.7s\tremaining: 50.3s\n",
      "300:\tlearn: 15.1101814\ttest: 31.0996693\tbest: 31.0728465 (294)\ttotal: 19.2s\tremaining: 44.6s\n",
      "400:\tlearn: 13.6759852\ttest: 31.0533168\tbest: 31.0325042 (357)\ttotal: 25.7s\tremaining: 38.4s\n",
      "500:\tlearn: 12.5017464\ttest: 30.9539858\tbest: 30.9508137 (498)\ttotal: 32.2s\tremaining: 32.1s\n",
      "600:\tlearn: 11.4584092\ttest: 30.9668641\tbest: 30.9362498 (552)\ttotal: 38.7s\tremaining: 25.7s\n",
      "700:\tlearn: 10.5346392\ttest: 30.8748983\tbest: 30.8312245 (662)\ttotal: 45.2s\tremaining: 19.3s\n",
      "Stopped by overfitting detector  (100 iterations wait)\n",
      "\n",
      "bestTest = 30.83122448\n",
      "bestIteration = 662\n",
      "\n",
      "Shrink model to first 663 iterations.\n",
      "{'cat_features': ['hour', 'day_of_week'], 'depth': 8, 'early_stopping_rounds': 100, 'iterations': 1000, 'learning_rate': 0.1, 'loss_function': 'RMSE', 'random_seed': 1000, 'verbose': 100}\n",
      "0:\tlearn: 34.0682509\ttest: 56.2603179\tbest: 56.2603179 (0)\ttotal: 12.1ms\tremaining: 12.1s\n",
      "100:\tlearn: 17.0279915\ttest: 31.5514002\tbest: 31.5514002 (100)\ttotal: 7.58s\tremaining: 1m 7s\n",
      "200:\tlearn: 13.6574913\ttest: 31.2377836\tbest: 31.2222755 (190)\ttotal: 13.9s\tremaining: 55.3s\n",
      "300:\tlearn: 11.4030675\ttest: 31.1657517\tbest: 31.1380595 (262)\ttotal: 20.4s\tremaining: 47.3s\n",
      "Stopped by overfitting detector  (100 iterations wait)\n",
      "\n",
      "bestTest = 31.13805946\n",
      "bestIteration = 262\n",
      "\n",
      "Shrink model to first 263 iterations.\n"
     ]
    }
   ],
   "source": [
    "#Словарь с названиями гиперпараметров и их значениями для тюнинга модели:\n",
    "cat_params = {'loss_function': ['RMSE'],\n",
    "              'cat_features': [categorial],\n",
    "              'random_seed': [1000],\n",
    "              'verbose': [100],\n",
    "              'early_stopping_rounds': [100],\n",
    "              'iterations': [1000],\n",
    "              'learning_rate': [0.005, 0.01, 0.05, 0.1],\n",
    "              'depth': [4, 6, 8]\n",
    "             }\n",
    "\n",
    "#Создание совокупностей параметров из словаря:\n",
    "cat_grid = ParameterGrid(cat_params)\n",
    "\n",
    "min_rmse_cat = 1000\n",
    "best_params_cat = {}\n",
    "\n",
    "#Обучение и поиск лучших гиперпараметров модели catboost:\n",
    "for params in cat_grid:\n",
    "    \n",
    "    print(params)\n",
    "    \n",
    "    cat_model = CatBoostRegressor(**params)\n",
    "\n",
    "    cat_model.fit(train_pool, eval_set=valid_pool)\n",
    "    \n",
    "    if cat_model.get_best_score()['validation']['RMSE'] < min_rmse_cat:\n",
    "        min_rmse_cat = cat_model.get_best_score()['validation']['RMSE']\n",
    "        best_params_cat = params"
   ]
  },
  {
   "cell_type": "code",
   "execution_count": 24,
   "metadata": {},
   "outputs": [
    {
     "name": "stdout",
     "output_type": "stream",
     "text": [
      "Лучшая rmse: 30.831224477395146 \n",
      "\n",
      "Гиперпараметры лучшей модели:\n",
      " {'cat_features': ['hour', 'day_of_week'], 'depth': 8, 'early_stopping_rounds': 100, 'iterations': 1000, 'learning_rate': 0.05, 'loss_function': 'RMSE', 'random_seed': 1000, 'verbose': 100}\n"
     ]
    }
   ],
   "source": [
    "#Лучшая метрика rmse с гиперпараметрами, при которых она была достигнута (модель catboost):\n",
    "print('Лучшая rmse:', min_rmse_cat, '\\n')\n",
    "print('Гиперпараметры лучшей модели:\\n', best_params_cat)"
   ]
  },
  {
   "cell_type": "markdown",
   "metadata": {},
   "source": [
    "Были найдены оптимальные гиперпараметры для модели \"случайного леса\" sklearn и градиентного бустинга catboost. Бустинг показал несколько лучшие результаты: rmse меньше примерно на 2.6. Стоит проверить модели на адекватность - сравнить их предсказания с предсказаниями по простой стратегии, а затем окончательно проверить качество на тестовой выборке."
   ]
  },
  {
   "cell_type": "markdown",
   "metadata": {},
   "source": [
    "## 4. Тестирование"
   ]
  },
  {
   "cell_type": "markdown",
   "metadata": {},
   "source": [
    "Для проверки обеих моделей на адекватность вычислю метрику rmse для предсказаний по простым стратегиям:\n",
    "1. Все предсказания количества заказов в тестовой выборке будут равны медиане обучающей + валидационной выборки\n",
    "2. Предсказания равняются среднему значению заказов обучающей + валидационной выборки\n",
    "3. Каждое последующее значение прогнозируется предыдущим"
   ]
  },
  {
   "cell_type": "code",
   "execution_count": 25,
   "metadata": {},
   "outputs": [],
   "source": [
    "#Объединение обучающей и валидационной выборок с целевым признаком:\n",
    "new_target_train = taxi_data['num_orders']\n",
    "new_target_train = new_target_train['2018-03-02 01:00:00':'2018-08-13 15:00:00']"
   ]
  },
  {
   "cell_type": "code",
   "execution_count": 26,
   "metadata": {},
   "outputs": [],
   "source": [
    "#Предсказания по первой простой стратегии (медиана):\n",
    "dummy1_predictions = pd.Series(new_target_train.median(), index=target_test.index)\n",
    "\n",
    "#Предсказания по второй простой стратегии (среднее):\n",
    "dummy2_predictions = pd.Series(new_target_train.mean(), index=target_test.index)\n",
    "\n",
    "#Предсказания по третьей простой стратегии (предыдущее):\n",
    "dummy3_predictions = target_test.shift()\n",
    "dummy3_predictions[0] = new_target_train[-1]"
   ]
  },
  {
   "cell_type": "code",
   "execution_count": 27,
   "metadata": {},
   "outputs": [
    {
     "name": "stdout",
     "output_type": "stream",
     "text": [
      "Предсказания медианой, rmse:\t 87.21093811714634 \n",
      "\n",
      "Предсказания средним, rmse:\t 84.68979207380566 \n",
      "\n",
      "Предсказания предыдущим, rmse:\t 58.881776776551476 \n",
      "\n"
     ]
    }
   ],
   "source": [
    "#Вычисление rmse для каждой простой стратегии:\n",
    "print('Предсказания медианой, rmse:\\t', mean_squared_error(target_test, dummy1_predictions)**0.5, '\\n')\n",
    "\n",
    "print('Предсказания средним, rmse:\\t', mean_squared_error(target_test, dummy2_predictions)**0.5, '\\n')\n",
    "\n",
    "print('Предсказания предыдущим, rmse:\\t', mean_squared_error(target_test, dummy3_predictions)**0.5, '\\n')"
   ]
  },
  {
   "cell_type": "markdown",
   "metadata": {},
   "source": [
    "Лучшее rmse простой стратегии (предыдущее значение) - 58.88, если модель покажет метрику ниже этой, то она адекватна. Впрочем, порог метрики задан в техзадании - 48, поэтому любая модель, подходящая под этот критерий уже будет адекватна.\n",
    "\n",
    "Проверю лучшие модели на тестовой выборке."
   ]
  },
  {
   "cell_type": "code",
   "execution_count": 28,
   "metadata": {
    "scrolled": false
   },
   "outputs": [
    {
     "name": "stdout",
     "output_type": "stream",
     "text": [
      "0:\tlearn: 34.8932233\ttest: 57.3388871\tbest: 57.3388871 (0)\ttotal: 7.83ms\tremaining: 7.83s\n",
      "100:\tlearn: 19.2368541\ttest: 32.9681959\tbest: 32.9681959 (100)\ttotal: 6.05s\tremaining: 53.9s\n",
      "200:\tlearn: 16.9518828\ttest: 31.4217774\tbest: 31.4217774 (200)\ttotal: 12.3s\tremaining: 48.8s\n",
      "300:\tlearn: 15.1101814\ttest: 31.0996693\tbest: 31.0728465 (294)\ttotal: 18.8s\tremaining: 43.7s\n",
      "400:\tlearn: 13.6759852\ttest: 31.0533168\tbest: 31.0325042 (357)\ttotal: 25.3s\tremaining: 37.8s\n",
      "500:\tlearn: 12.5017464\ttest: 30.9539858\tbest: 30.9508137 (498)\ttotal: 31.9s\tremaining: 31.8s\n",
      "600:\tlearn: 11.4584092\ttest: 30.9668641\tbest: 30.9362498 (552)\ttotal: 38.7s\tremaining: 25.7s\n",
      "700:\tlearn: 10.5346392\ttest: 30.8748983\tbest: 30.8312245 (662)\ttotal: 45.3s\tremaining: 19.3s\n",
      "Stopped by overfitting detector  (100 iterations wait)\n",
      "\n",
      "bestTest = 30.83122448\n",
      "bestIteration = 662\n",
      "\n",
      "Shrink model to first 663 iterations.\n"
     ]
    },
    {
     "data": {
      "text/plain": [
       "<catboost.core.CatBoostRegressor at 0x7f25a6ab9e50>"
      ]
     },
     "execution_count": 28,
     "metadata": {},
     "output_type": "execute_result"
    }
   ],
   "source": [
    "#Лучшая модель RandomForestRegressor:\n",
    "best_forest_model = RandomForestRegressor(random_state=1000, **best_params)\n",
    "best_forest_model.fit(features_ohe_train, target_train)\n",
    "\n",
    "#Лучшая модель catboost:\n",
    "best_cat_model = CatBoostRegressor(**best_params_cat)\n",
    "best_cat_model.fit(train_pool, eval_set=valid_pool)"
   ]
  },
  {
   "cell_type": "code",
   "execution_count": 29,
   "metadata": {},
   "outputs": [
    {
     "name": "stdout",
     "output_type": "stream",
     "text": [
      "rmse на тестовой выборке, модель RandomForestRegressor: 52.10882394495797 \n",
      "\n",
      "rmse на тестовой выборке, модель catboost: 50.97039912707395\n"
     ]
    }
   ],
   "source": [
    "#Предсказания и вычисление rmse для лучших моделей:\n",
    "\n",
    "forest_predictions = best_forest_model.predict(features_ohe_test)\n",
    "print('rmse на тестовой выборке, модель RandomForestRegressor:', mean_squared_error(target_test, forest_predictions)**0.5, '\\n')\n",
    "\n",
    "cat_predictions = best_cat_model.predict(features_test)\n",
    "print('rmse на тестовой выборке, модель catboost:', mean_squared_error(target_test, cat_predictions)**0.5)"
   ]
  },
  {
   "cell_type": "markdown",
   "metadata": {},
   "source": [
    "Модели на тестовой выборке показали недостаточное качество предсказаний. Мне кажется, это произошло из-за того, что в обучении моделей для финального тестирования участвовала только обучающая выборка, между ней и тестовой еще 18 дней (они были использованы в валидационной выборке). При анализе полной выборки я выяснил, что количество заказов растет в августе гораздо быстрее, чем в прошлые месяцы, а финальные модели при обучении совсем не захватили этот период. Попробую обучить модели с теми же гиперпараметрами, но на объединенной обучающей и валидационной выборке."
   ]
  },
  {
   "cell_type": "code",
   "execution_count": 30,
   "metadata": {
    "scrolled": true
   },
   "outputs": [],
   "source": [
    "#Создание новой обучающей выборки - соединение прошлой обучающей и валидационной:\n",
    "new_features_ohe_train = pd.concat([features_ohe_train, features_ohe_valid])\n",
    "new_target_train = pd.concat([target_train, target_valid])"
   ]
  },
  {
   "cell_type": "code",
   "execution_count": 31,
   "metadata": {},
   "outputs": [
    {
     "name": "stdout",
     "output_type": "stream",
     "text": [
      "rmse testing RandomForestRegressor: 42.81311435081569\n"
     ]
    }
   ],
   "source": [
    "#Обучение и проверка модели RandomForestRegressor:\n",
    "testing_params = {'max_depth': 18, 'min_samples_leaf': 3, 'n_estimators': 70}\n",
    "\n",
    "testing_forest_model = RandomForestRegressor(random_state=1000, **testing_params)\n",
    "testing_forest_model.fit(new_features_ohe_train, new_target_train)\n",
    "\n",
    "testing_forest_predictions = testing_forest_model.predict(features_ohe_test)\n",
    "\n",
    "print('rmse testing RandomForestRegressor:', mean_squared_error(target_test, testing_forest_predictions)**0.5)"
   ]
  },
  {
   "cell_type": "markdown",
   "metadata": {},
   "source": [
    "Метрика гораздо меньше пороговой. Модель RandomForestRegressor прошла финальное тестирование успешно."
   ]
  },
  {
   "cell_type": "code",
   "execution_count": 32,
   "metadata": {},
   "outputs": [],
   "source": [
    "#Новая обучающая выборка для catboost:\n",
    "new_features_train = pd.concat([features_train, features_valid])\n",
    "\n",
    "new_train_pool = Pool(new_features_train,\n",
    "                      label=new_target_train,\n",
    "                      cat_features=categorial\n",
    "                      )\n",
    "\n",
    "testing_cat_params = {'cat_features': ['hour', 'day_of_week'],\n",
    "                      'depth': 8,\n",
    "                      'early_stopping_rounds': 100,\n",
    "                      'iterations': 1000,\n",
    "                      'learning_rate': 0.05,\n",
    "                      'loss_function': 'RMSE',\n",
    "                      'random_seed': 1000,\n",
    "                      'verbose': 100\n",
    "                     }"
   ]
  },
  {
   "cell_type": "code",
   "execution_count": 33,
   "metadata": {},
   "outputs": [
    {
     "name": "stdout",
     "output_type": "stream",
     "text": [
      "0:\tlearn: 37.7139841\ttotal: 7.87ms\tremaining: 7.87s\n",
      "100:\tlearn: 20.9340213\ttotal: 5.8s\tremaining: 51.6s\n",
      "200:\tlearn: 18.7091366\ttotal: 11.7s\tremaining: 46.7s\n",
      "300:\tlearn: 16.6325582\ttotal: 18.3s\tremaining: 42.5s\n",
      "400:\tlearn: 15.0749952\ttotal: 24.8s\tremaining: 37.1s\n",
      "500:\tlearn: 13.7428168\ttotal: 31.5s\tremaining: 31.3s\n",
      "600:\tlearn: 12.5630813\ttotal: 38s\tremaining: 25.2s\n",
      "700:\tlearn: 11.4662035\ttotal: 44.6s\tremaining: 19s\n",
      "800:\tlearn: 10.5161709\ttotal: 51.2s\tremaining: 12.7s\n",
      "900:\tlearn: 9.6986190\ttotal: 57.8s\tremaining: 6.35s\n",
      "999:\tlearn: 8.9916987\ttotal: 1m 4s\tremaining: 0us\n",
      "\n",
      "rmse на тестовой выборке, модель catboost: 40.046667518171475\n"
     ]
    }
   ],
   "source": [
    "#Обучение и тестирование:\n",
    "testing_cat_model = CatBoostRegressor(**testing_cat_params)\n",
    "testing_cat_model.fit(new_train_pool)\n",
    "testing_cat_predictions = testing_cat_model.predict(features_test)\n",
    "print('\\nrmse на тестовой выборке, модель catboost:', mean_squared_error(target_test, testing_cat_predictions)**0.5)"
   ]
  },
  {
   "cell_type": "markdown",
   "metadata": {},
   "source": [
    "Модель catboost на тестовой выборке также показала метрику ниже порога, заданного заказчиком."
   ]
  },
  {
   "cell_type": "markdown",
   "metadata": {},
   "source": [
    "## Вывод"
   ]
  },
  {
   "cell_type": "markdown",
   "metadata": {},
   "source": [
    "В ходе выполнения проекта я изучил данные по заказам такси и нашел в них определенные закономерности. Выделил признаки, разбил их на категориальные и количественные, подготовил для обучения разных моделей. Далее я подобрал оптимальные гиперпараметры для модели RandomForestRegressor библиотеки sklearn и CatBoostRegressor из библиотеки catboost. Пороговая метрика rmse для тестовой выборке была установлена заказчиком на значении 48 - ее преодолели обе модели.\n",
    "\n",
    "RandomForestRegressor обучается быстрее, но показывает худшее rmse, чем catboost - примерно на 2.8\n",
    "\n",
    "Заказчику можно представить полученные результаты и уточнить что для решения задачи будет важнее: скорость работы или точность предсказаний.\n",
    "\n",
    "Стоит отметить, что со временем любую из этих моделей потребуется переобучить, включив новые данные в обучающую выборку. Иначе качество предсказаний будет снижаться."
   ]
  }
 ],
 "metadata": {
  "kernelspec": {
   "display_name": "Python 3",
   "language": "python",
   "name": "python3"
  },
  "language_info": {
   "codemirror_mode": {
    "name": "ipython",
    "version": 3
   },
   "file_extension": ".py",
   "mimetype": "text/x-python",
   "name": "python",
   "nbconvert_exporter": "python",
   "pygments_lexer": "ipython3",
   "version": "3.7.4"
  },
  "toc": {
   "base_numbering": 1,
   "nav_menu": {},
   "number_sections": true,
   "sideBar": true,
   "skip_h1_title": true,
   "title_cell": "Table of Contents",
   "title_sidebar": "Contents",
   "toc_cell": false,
   "toc_position": {},
   "toc_section_display": true,
   "toc_window_display": false
  }
 },
 "nbformat": 4,
 "nbformat_minor": 2
}
